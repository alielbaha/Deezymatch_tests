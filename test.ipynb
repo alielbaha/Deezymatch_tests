{
 "cells": [
  {
   "cell_type": "code",
   "execution_count": 5,
   "metadata": {},
   "outputs": [],
   "source": [
    "from dp.phonemizer import Phonemizer"
   ]
  },
  {
   "cell_type": "code",
   "execution_count": 6,
   "metadata": {},
   "outputs": [],
   "source": [
    "model = Phonemizer.from_checkpoint(\"pretrained/latin_ipa_forward.pt\")"
   ]
  },
  {
   "attachments": {},
   "cell_type": "markdown",
   "metadata": {},
   "source": [
    "(dpenv) PS C:\\Users\\asus\\Desktop\\DeepPhonemizer> pip uninstall torch\n",
    "Found existing installation: torch 2.6.0\n",
    "Uninstalling torch-2.6.0:\n",
    "  Would remove:\n",
    "    c:\\users\\asus\\desktop\\deepphonemizer\\dpenv\\lib\\site-packages\\functorch\\*\n",
    "    c:\\users\\asus\\desktop\\deepphonemizer\\dpenv\\lib\\site-packages\\torch-2.6.0.dist-info\\*\n",
    "    c:\\users\\asus\\desktop\\deepphonemizer\\dpenv\\lib\\site-packages\\torch\\*\n",
    "    c:\\users\\asus\\desktop\\deepphonemizer\\dpenv\\lib\\site-packages\\torchgen\\*\n",
    "    c:\\users\\asus\\desktop\\deepphonemizer\\dpenv\\scripts\\torchfrtrace.exe\n",
    "    c:\\users\\asus\\desktop\\deepphonemizer\\dpenv\\scripts\\torchrun.exe\n",
    "Proceed (Y/n)? Y\n",
    "  Successfully uninstalled torch-2.6.0"
   ]
  },
  {
   "attachments": {},
   "cell_type": "markdown",
   "metadata": {},
   "source": [
    "(dpenv) PS C:\\Users\\asus\\Desktop\\DeepPhonemizer> pip install \"torch<2.5\"\n",
    "Collecting torch<2.5\n",
    "  Downloading torch-2.4.1-cp311-cp311-win_amd64.whl (199.4 MB)\n",
    "     ━━━━━━━━━━━━━━━━━━━━━━━━━━━━━━━━━━━━━━━━ 199.4/199.4 MB 8.8 MB/s eta 0:00:00\n",
    "Requirement already satisfied: filelock in c:\\users\\asus\\desktop\\deepphonemizer\\dpenv\\lib\\site-packages (from torch<2.5) (3.18.0)\n",
    "Requirement already satisfied: typing-extensions>=4.8.0 in c:\\users\\asus\\desktop\\deepphonemizer\\dpenv\\lib\\site-packages (from torch<2.5) (4.12.2)\n",
    "Requirement already satisfied: sympy in c:\\users\\asus\\desktop\\deepphonemizer\\dpenv\\lib\\site-packages (from torch<2.5) (1.13.1)\n",
    "Requirement already satisfied: networkx in c:\\users\\asus\\desktop\\deepphonemizer\\dpenv\\lib\\site-packages (from torch<2.5) (3.4.2)\n",
    "Requirement already satisfied: jinja2 in c:\\users\\asus\\desktop\\deepphonemizer\\dpenv\\lib\\site-packages (from torch<2.5) (3.1.6)\n",
    "Requirement already satisfied: fsspec in c:\\users\\asus\\desktop\\deepphonemizer\\dpenv\\lib\\site-packages (from torch<2.5) (2025.3.0)\n",
    "Requirement already satisfied: MarkupSafe>=2.0 in c:\\users\\asus\\desktop\\deepphonemizer\\dpenv\\lib\\site-packages (from jinja2->torch<2.5) (3.0.2)\n",
    "Requirement already satisfied: mpmath<1.4,>=1.1.0 in c:\\users\\asus\\desktop\\deepphonemizer\\dpenv\\lib\\site-packages (from sympy->torch<2.5) (1.3.0)\n",
    "Installing collected packages: torch\n",
    "Successfully installed torch-2.4.1"
   ]
  },
  {
   "cell_type": "markdown",
   "metadata": {},
   "source": []
  },
  {
   "cell_type": "code",
   "execution_count": null,
   "metadata": {},
   "outputs": [],
   "source": [
    "model = Phonemizer.from_checkpoint(\"pretrained/latin_ipa_forward.pt\")"
   ]
  },
  {
   "cell_type": "code",
   "execution_count": null,
   "metadata": {},
   "outputs": [],
   "source": [
    "import torch\n",
    "print(torch.__version__)\n"
   ]
  },
  {
   "cell_type": "code",
   "execution_count": 22,
   "metadata": {},
   "outputs": [
    {
     "data": {
      "text/plain": [
       "'ʒa ʒi ʒø ʒødi ʒaʁdɛ̃ ʒa ʒi ʃ dʒɛn dʒin'"
      ]
     },
     "execution_count": 22,
     "metadata": {},
     "output_type": "execute_result"
    }
   ],
   "source": [
    "model(\"ja ji jeu jeudi jardin j'a j'i j'e jen jean\", lang=\"fr\")"
   ]
  },
  {
   "cell_type": "code",
   "execution_count": 46,
   "metadata": {},
   "outputs": [
    {
     "data": {
      "text/plain": [
       "'wit'"
      ]
     },
     "execution_count": 46,
     "metadata": {},
     "output_type": "execute_result"
    }
   ],
   "source": [
    "model(\"huit\", lang=\"fr\")"
   ]
  },
  {
   "cell_type": "code",
   "execution_count": 24,
   "metadata": {},
   "outputs": [
    {
     "data": {
      "text/plain": [
       "'ʒaʁdɛ̃'"
      ]
     },
     "execution_count": 24,
     "metadata": {},
     "output_type": "execute_result"
    }
   ],
   "source": [
    "model(\"jardin\", lang=\"fr\")"
   ]
  },
  {
   "cell_type": "code",
   "execution_count": 25,
   "metadata": {},
   "outputs": [
    {
     "data": {
      "text/plain": [
       "'kʁistjɑ̃'"
      ]
     },
     "execution_count": 25,
     "metadata": {},
     "output_type": "execute_result"
    }
   ],
   "source": [
    "model(\"christian\", lang=\"fr\")"
   ]
  },
  {
   "cell_type": "code",
   "execution_count": 26,
   "metadata": {},
   "outputs": [
    {
     "data": {
      "text/plain": [
       "'kʁistin'"
      ]
     },
     "execution_count": 26,
     "metadata": {},
     "output_type": "execute_result"
    }
   ],
   "source": [
    "model(\"christine\", lang=\"fr\")"
   ]
  },
  {
   "cell_type": "code",
   "execution_count": 85,
   "metadata": {},
   "outputs": [],
   "source": [
    "replacements = {\n",
    "    \"a\": [\"A\"],\n",
    "    \"b\": [\"B\"],\n",
    "    \"d\": [\"D\"],\n",
    "    \"e\": [\"E\", \"É\", \"È\", \"Ê\", \"AI\"],\n",
    "    \"f\": [\"F\", \"PH\"],\n",
    "    \"i\": [\"I\", \"Y\"],\n",
    "    \"j\": [\"Y\"],\n",
    "    \"k\": [\"K\", \"C\", \"QU\"],\n",
    "    \"l\": [\"L\", \"LL\"],\n",
    "    \"m\": [\"M\",\"MM\"],\n",
    "    \"n\": [\"N\", \"NN\", \"NE\"],\n",
    "    \"o\": [\"O\", \"AU\", \"EAU\"],\n",
    "    \"p\": [\"P\"],\n",
    "    \"r\": [\"R\", \"RR\"],\n",
    "    \"s\": [\"S\", \"SS\"],\n",
    "    \"t\": [\"T\", \"TT\"],\n",
    "    \"u\": [\"OU\"],\n",
    "    \"v\": [\"V\"],\n",
    "    \"w\": [\"W\"],\n",
    "    \"y\": [\"U\"],\n",
    "    \"z\": [\"Z\", \"S\"],\n",
    "    \"ø\": [\"EU\", \"ŒU\"],\n",
    "    \"ŋ\": [\"NG\"],\n",
    "    \"œ\": [\"Œ\", \"EU\", \"ŒU\"],\n",
    "    \"œ̃\": [\"UN\", \"UM\"],\n",
    "    \"ɑ\": [\"A\"],\n",
    "    \"ɑ̃\": [\"AN\", \"AM\", \"EN\", \"EM\"],\n",
    "    \"ɔ\": [\"O\"],\n",
    "    \"ɔ̃\": [\"ON\", \"OM\"],\n",
    "    \"ə\": [\"E\"],\n",
    "    \"ɛ\": [\"E\", \"É\", \"È\", \"Ê\", \"AI\"],\n",
    "    \"ɛː\": [\"E\", \"É\", \"È\", \"Ê\", \"AI\"],\n",
    "    \"ɛ̃\": [\"IN\", \"IM\", \"AIN\", \"EIN\"],\n",
    "    \"ɡ\": [\"G\", \"GU\"],\n",
    "    \"ɥ\": [\"U\", \"HU\"],\n",
    "    \"ɲ\": [\"GN\"],\n",
    "    \"ʁ\": [\"R\"],\n",
    "    \"wa\": [\"OIT\",\"OI\",\"OUA\",\"WA\",\"UA\"],\n",
    "    \"ʃ\": [\"CH\",\"SH\"],\n",
    "    \"ʒ\": [\"J\", \"G\", \"GE\"],\n",
    "}"
   ]
  },
  {
   "cell_type": "code",
   "execution_count": 84,
   "metadata": {},
   "outputs": [],
   "source": [
    "\n",
    "from graphviz import Digraph\n",
    "\n",
    "def gen_tree(name, replacements):\n",
    "    tree = Digraph(\"rectree\")\n",
    "    tree.node(\"root\", \"\")\n",
    "    variations = []\n",
    "    def dfs(ind, pos, P_id):\n",
    "        if ind == len(name):\n",
    "            L_id = f\"{pos}\"\n",
    "            tree.node(L_id, pos, shape=\"box\")\n",
    "            tree.edge(P_id, L_id)\n",
    "            variations.append(L_id)\n",
    "            return\n",
    "\n",
    "        for length in range(1, len(name) - ind + 1):\n",
    "            substring = name[ind:ind + length]\n",
    "            if substring in replacements:\n",
    "                for replacement in replacements[substring]:\n",
    "                    C_id = f\"{pos + replacement}_{ind + length}\"\n",
    "                    print(pos,ind)\n",
    "                    tree.node(C_id, pos + replacement)\n",
    "                    tree.edge(P_id, C_id)\n",
    "                    dfs(ind + length, pos + replacement, C_id)\n",
    "                break\n",
    "\n",
    "    dfs(0, \"\", \"root\")\n",
    "    return tree,variations"
   ]
  },
  {
   "cell_type": "code",
   "execution_count": 89,
   "metadata": {},
   "outputs": [
    {
     "data": {
      "text/plain": [
       "'samɑ̃ta'"
      ]
     },
     "execution_count": 89,
     "metadata": {},
     "output_type": "execute_result"
    }
   ],
   "source": [
    "model(\"samantha\",lang=\"fr\")"
   ]
  },
  {
   "cell_type": "code",
   "execution_count": 88,
   "metadata": {},
   "outputs": [
    {
     "name": "stdout",
     "output_type": "stream",
     "text": [
      " 0\n",
      "S 1\n",
      "SA 2\n",
      "SAM 3\n",
      "SA 2\n",
      "SAMM 3\n",
      " 0\n",
      "SS 1\n",
      "SSA 2\n",
      "SSAM 3\n",
      "SSA 2\n",
      "SSAMM 3\n"
     ]
    },
    {
     "data": {
      "text/plain": [
       "[]"
      ]
     },
     "execution_count": 88,
     "metadata": {},
     "output_type": "execute_result"
    }
   ],
   "source": [
    "gen_tree(model(\"samantha\",lang=\"fr\"), replacements)[1]"
   ]
  },
  {
   "cell_type": "code",
   "execution_count": 90,
   "metadata": {},
   "outputs": [],
   "source": []
  },
  {
   "cell_type": "code",
   "execution_count": 29,
   "metadata": {},
   "outputs": [
    {
     "name": "stderr",
     "output_type": "stream",
     "text": [
      "c:\\Users\\asus\\Desktop\\DeepPhonemizer\\dpenv\\Lib\\site-packages\\torch\\nn\\modules\\transformer.py:307: UserWarning: enable_nested_tensor is True, but self.use_nested_tensor is False because encoder_layer.self_attn.batch_first was not True(use batch_first for better inference performance)\n",
      "  warnings.warn(f\"enable_nested_tensor is True, but self.use_nested_tensor is False because {why_not_sparsity_fast_path}\")\n"
     ]
    }
   ],
   "source": [
    "model2 = Phonemizer.from_checkpoint(\"pretrained/en_us_cmudict_ipa_forward.pt\")"
   ]
  },
  {
   "cell_type": "code",
   "execution_count": 38,
   "metadata": {},
   "outputs": [
    {
     "ename": "ValueError",
     "evalue": "Language not supported: fr. Supported languages: ['de', 'en_us']",
     "output_type": "error",
     "traceback": [
      "\u001b[31m---------------------------------------------------------------------------\u001b[39m",
      "\u001b[31mValueError\u001b[39m                                Traceback (most recent call last)",
      "\u001b[36mCell\u001b[39m\u001b[36m \u001b[39m\u001b[32mIn[38]\u001b[39m\u001b[32m, line 1\u001b[39m\n\u001b[32m----> \u001b[39m\u001b[32m1\u001b[39m \u001b[43mmodel2\u001b[49m\u001b[43m(\u001b[49m\u001b[33;43m\"\u001b[39;49m\u001b[33;43mson\u001b[39;49m\u001b[33;43m\"\u001b[39;49m\u001b[43m,\u001b[49m\u001b[43mlang\u001b[49m\u001b[43m=\u001b[49m\u001b[33;43m\"\u001b[39;49m\u001b[33;43mfr\u001b[39;49m\u001b[33;43m\"\u001b[39;49m\u001b[43m \u001b[49m\u001b[43m)\u001b[49m\n",
      "\u001b[36mFile \u001b[39m\u001b[32mc:\\Users\\asus\\Desktop\\DeepPhonemizer\\dp\\phonemizer.py:51\u001b[39m, in \u001b[36mPhonemizer.__call__\u001b[39m\u001b[34m(self, text, lang, punctuation, expand_acronyms, batch_size)\u001b[39m\n\u001b[32m     49\u001b[39m single_input_string = \u001b[38;5;28misinstance\u001b[39m(text, \u001b[38;5;28mstr\u001b[39m)\n\u001b[32m     50\u001b[39m texts = [text] \u001b[38;5;28;01mif\u001b[39;00m single_input_string \u001b[38;5;28;01melse\u001b[39;00m text\n\u001b[32m---> \u001b[39m\u001b[32m51\u001b[39m result = \u001b[38;5;28;43mself\u001b[39;49m\u001b[43m.\u001b[49m\u001b[43mphonemise_list\u001b[49m\u001b[43m(\u001b[49m\u001b[43mtexts\u001b[49m\u001b[43m=\u001b[49m\u001b[43mtexts\u001b[49m\u001b[43m,\u001b[49m\u001b[43m \u001b[49m\u001b[43mlang\u001b[49m\u001b[43m=\u001b[49m\u001b[43mlang\u001b[49m\u001b[43m,\u001b[49m\n\u001b[32m     52\u001b[39m \u001b[43m                             \u001b[49m\u001b[43mpunctuation\u001b[49m\u001b[43m=\u001b[49m\u001b[43mpunctuation\u001b[49m\u001b[43m,\u001b[49m\u001b[43m \u001b[49m\u001b[43mexpand_acronyms\u001b[49m\u001b[43m=\u001b[49m\u001b[43mexpand_acronyms\u001b[49m\u001b[43m)\u001b[49m\n\u001b[32m     54\u001b[39m phoneme_lists = [\u001b[33m'\u001b[39m\u001b[33m'\u001b[39m.join(phoneme_list) \u001b[38;5;28;01mfor\u001b[39;00m phoneme_list \u001b[38;5;129;01min\u001b[39;00m result.phonemes]\n\u001b[32m     56\u001b[39m \u001b[38;5;28;01mif\u001b[39;00m single_input_string:\n",
      "\u001b[36mFile \u001b[39m\u001b[32mc:\\Users\\asus\\Desktop\\DeepPhonemizer\\dp\\phonemizer.py:119\u001b[39m, in \u001b[36mPhonemizer.phonemise_list\u001b[39m\u001b[34m(self, texts, lang, punctuation, expand_acronyms, batch_size)\u001b[39m\n\u001b[32m    115\u001b[39m \u001b[38;5;66;03m# predict all subwords that are missing in the phoneme dict\u001b[39;00m\n\u001b[32m    116\u001b[39m words_to_predict = [word \u001b[38;5;28;01mfor\u001b[39;00m word, phons \u001b[38;5;129;01min\u001b[39;00m word_phonemes.items()\n\u001b[32m    117\u001b[39m                     \u001b[38;5;28;01mif\u001b[39;00m phons \u001b[38;5;129;01mis\u001b[39;00m \u001b[38;5;28;01mNone\u001b[39;00m \u001b[38;5;129;01mand\u001b[39;00m \u001b[38;5;28mlen\u001b[39m(word_splits.get(word, [])) <= \u001b[32m1\u001b[39m]\n\u001b[32m--> \u001b[39m\u001b[32m119\u001b[39m predictions = \u001b[38;5;28;43mself\u001b[39;49m\u001b[43m.\u001b[49m\u001b[43mpredictor\u001b[49m\u001b[43m(\u001b[49m\u001b[43mwords\u001b[49m\u001b[43m=\u001b[49m\u001b[43mwords_to_predict\u001b[49m\u001b[43m,\u001b[49m\n\u001b[32m    120\u001b[39m \u001b[43m                             \u001b[49m\u001b[43mlang\u001b[49m\u001b[43m=\u001b[49m\u001b[43mlang\u001b[49m\u001b[43m,\u001b[49m\n\u001b[32m    121\u001b[39m \u001b[43m                             \u001b[49m\u001b[43mbatch_size\u001b[49m\u001b[43m=\u001b[49m\u001b[43mbatch_size\u001b[49m\u001b[43m)\u001b[49m\n\u001b[32m    123\u001b[39m word_phonemes.update({pred.word: pred.phonemes \u001b[38;5;28;01mfor\u001b[39;00m pred \u001b[38;5;129;01min\u001b[39;00m predictions})\n\u001b[32m    124\u001b[39m pred_dict = {pred.word: pred \u001b[38;5;28;01mfor\u001b[39;00m pred \u001b[38;5;129;01min\u001b[39;00m predictions}\n",
      "\u001b[36mFile \u001b[39m\u001b[32mc:\\Users\\asus\\Desktop\\DeepPhonemizer\\dp\\model\\predictor.py:53\u001b[39m, in \u001b[36mPredictor.__call__\u001b[39m\u001b[34m(self, words, lang, batch_size)\u001b[39m\n\u001b[32m     51\u001b[39m \u001b[38;5;66;03m# handle words that result in an empty input to the model\u001b[39;00m\n\u001b[32m     52\u001b[39m \u001b[38;5;28;01mfor\u001b[39;00m word \u001b[38;5;129;01min\u001b[39;00m words:\n\u001b[32m---> \u001b[39m\u001b[32m53\u001b[39m     \u001b[38;5;28minput\u001b[39m = \u001b[38;5;28;43mself\u001b[39;49m\u001b[43m.\u001b[49m\u001b[43mtext_tokenizer\u001b[49m\u001b[43m(\u001b[49m\u001b[43msentence\u001b[49m\u001b[43m=\u001b[49m\u001b[43mword\u001b[49m\u001b[43m,\u001b[49m\u001b[43m \u001b[49m\u001b[43mlanguage\u001b[49m\u001b[43m=\u001b[49m\u001b[43mlang\u001b[49m\u001b[43m)\u001b[49m\n\u001b[32m     54\u001b[39m     decoded = \u001b[38;5;28mself\u001b[39m.text_tokenizer.decode(\n\u001b[32m     55\u001b[39m         sequence=\u001b[38;5;28minput\u001b[39m, remove_special_tokens=\u001b[38;5;28;01mTrue\u001b[39;00m)\n\u001b[32m     56\u001b[39m     \u001b[38;5;28;01mif\u001b[39;00m \u001b[38;5;28mlen\u001b[39m(decoded) == \u001b[32m0\u001b[39m:\n",
      "\u001b[36mFile \u001b[39m\u001b[32mc:\\Users\\asus\\Desktop\\DeepPhonemizer\\dp\\preprocessing\\text.py:108\u001b[39m, in \u001b[36mSequenceTokenizer.__call__\u001b[39m\u001b[34m(self, sentence, language)\u001b[39m\n\u001b[32m    106\u001b[39m sentence = [item \u001b[38;5;28;01mfor\u001b[39;00m item \u001b[38;5;129;01min\u001b[39;00m sentence \u001b[38;5;28;01mfor\u001b[39;00m i \u001b[38;5;129;01min\u001b[39;00m \u001b[38;5;28mrange\u001b[39m(\u001b[38;5;28mself\u001b[39m.char_repeats)]\n\u001b[32m    107\u001b[39m \u001b[38;5;28;01mif\u001b[39;00m language \u001b[38;5;129;01mnot\u001b[39;00m \u001b[38;5;129;01min\u001b[39;00m \u001b[38;5;28mself\u001b[39m.languages:\n\u001b[32m--> \u001b[39m\u001b[32m108\u001b[39m     \u001b[38;5;28;01mraise\u001b[39;00m \u001b[38;5;167;01mValueError\u001b[39;00m(\u001b[33mf\u001b[39m\u001b[33m'\u001b[39m\u001b[33mLanguage not supported: \u001b[39m\u001b[38;5;132;01m{\u001b[39;00mlanguage\u001b[38;5;132;01m}\u001b[39;00m\u001b[33m. Supported languages: \u001b[39m\u001b[38;5;132;01m{\u001b[39;00m\u001b[38;5;28mself\u001b[39m.languages\u001b[38;5;132;01m}\u001b[39;00m\u001b[33m'\u001b[39m)\n\u001b[32m    109\u001b[39m \u001b[38;5;28;01mif\u001b[39;00m \u001b[38;5;28mself\u001b[39m.lowercase:\n\u001b[32m    110\u001b[39m     sentence = [s.lower() \u001b[38;5;28;01mfor\u001b[39;00m s \u001b[38;5;129;01min\u001b[39;00m sentence]\n",
      "\u001b[31mValueError\u001b[39m: Language not supported: fr. Supported languages: ['de', 'en_us']"
     ]
    }
   ],
   "source": [
    "model2(\"son\",lang=\"en_us\" )"
   ]
  },
  {
   "cell_type": "code",
   "execution_count": 39,
   "metadata": {},
   "outputs": [
    {
     "data": {
      "text/plain": [
       "'ami, pɔɛt, ɛspʁi, ty fɥi nɔtʁ nwi nwaʁ. ty sɔʁ də no ʁymœʁ puʁ ɑ̃tʁe dan la ɡlwaʁ e dezɔʁmɛ tɔ̃ nɔ̃ ʁɛjɔn o pyʁ sɔmɛ. mwa ki te kɔny ʒœn e bo, mwa ki tɛmɛ, mwa ki, ply dyn fwa, dan no altje ku dɛl, epɛʁdy, mapɥijɛ syʁ tɔ̃ am fidɛl, mwa, blɑ̃ʃi paʁ le ʒuʁ syʁ ma tɛt nɛʒɑ̃, ʃ mø suvjɛ̃ de tɑ̃ ekule, e sɔ̃ʒɑ̃ a sə ʒœn pase ki vi no dø oʁɔʁ, a la lyt, a lɔʁaʒ, o aʁɛn sɔnɔʁ, a laʁ nuvo ki sɔfʁ, o pœpl kʁijɑ̃ wi, ʒekut sə ɡʁɑ̃ vɑ̃ syblim evanwi. fi də la ɡʁɛs ɑ̃tik e də la ʒœn fʁɑ̃s, tɔ̃ fje ʁɛspɛ de mɔʁ fy ʁɑ̃pli dɛspeʁɑ̃s ʒame ty nə fɛʁmɑ le jø a lavniʁ. maʒ a tɛb, dʁɥid o pje dy nwaʁ meniʁ, flamin o bɔʁ dy tibʁ e bʁam o bɔʁ dy ɡɑ̃ʒ, mɛtɑ̃ syʁ laʁ dy djø la flɛʃ də laʁʃɑ̃ʒ, de-aʃil e də ʁɔlɑ̃ ɑ̃tɑ̃ le dø ʃəvɛ, fɔʁʒœʁ misteʁjø e pɥisɑ̃, ty savɛ tɔʁdʁ tu le ʁɛjɔ̃ dan yn sœl flɑm l kuʃɑ̃ ʁɑ̃kɔ̃tʁɛ loʁɔʁ dan tɔ̃ am ie kʁwazɛ dəmɛ̃ dan tɔ̃ fekɔ̃ sɛʁvo ty sakʁɛ l vjɛj‿ aʁ ajœl də laʁ nuvo ty kɔ̃pʁənɛ kil fo, lɔʁskyn am ɛ̃kɔny paʁl o pœpl, ɑ̃vɔle ɑ̃ eklɛʁ dan la ny, lekute, laksɛpte leme, uvʁiʁ le kœʁ kalm, ty dedɛɲɛ lɛfɔʁ vil de mɔkœʁ ekymɑ̃ syʁ ɛʃil e bavɑ̃ syʁ ʃakspiʁ ty savɛ kə sə sjɛkl a sɔ̃ ɛʁ kil ʁɛspiʁ, e kə, laʁ nə maʁʃɑ̃ kɑ̃ sə tʁɑ̃sfiɡyʁɑ̃, sɛst ɑ̃beliʁ l bo kə di ʒwɛ̃dʁ l ɡʁɑ̃. e lɔ̃ ta vy puse dijystʁ kʁi də ʒwa ekɑ̃ l dʁam a sɛzi paʁi kɔm yn pʁwɑ, ekɑ̃ lɑ̃tik ivɛʁ fy ʃase paʁ flɔʁeal, ekɑ̃ lastʁ inatɑ̃dy dy mɔdɛʁn ideal ɛ vəny tu a ku, dan l sjɛl ki sɑ̃bʁaz lɥiʁ, e ekɑ̃ ɛl-ipɔɡʁif a ʁəlɛje peɡaz! ʃ tə saly o sœj sevɛʁ dy tɔ̃bo. va ʃɛʁʃe l vʁɛ, twa ki sy tʁuve l bo. mɔ̃t lɑpʁ ɛskalje. dy o de sɔ̃bʁ maʁʃ, dy nwaʁ pɔ̃ də labim ɔ̃ ɑ̃tʁəvwa le aʁʃ va! mœʁ! la dɛʁnjɛʁ œʁ ɛ l dɛʁnje dəɡʁe. paʁ, ɛɡl, ty va vwaʁ de ɡufʁ a tɔ̃ ɡʁe ty va vwaʁ lapsɔly, l ʁeɛl, l syblim. ty va sɑ̃tiʁ l vɑ̃ sinistʁ də la sim e lebluismɑ̃ dy pʁɔdiʒ etɛʁnɛl. tɔ̃ ɔlɛ̃p, ty va l vwaʁ dy o dy sjɛl, ty va dy o dy vʁɛ vwaʁ lymɛn ʃimɛʁ, mɛm sɛl də dʒɔb, mɛm sɛl de-omɛʁ, ɛm, e dy o də djø ty va vwaʁ ʒeɔva. mɔ̃t, ɛspʁi! ɡʁɑ̃di, plan, uvʁ te ɛl, va! lɔʁskœ̃ vivɑ̃ nu kit, emy, ʃ l kɔ̃tɑ̃pl kaʁ ɑ̃tʁe dan la mɔʁ, sɛst ɑ̃tʁe dan l tɑ̃pl e ekɑ̃ œ̃ ɔm mœʁ, ʃ vwa distɛ̃ktəmɑ̃ dan sɔ̃ asɑ̃sjɔ̃ mɔ̃ pʁɔpʁ avɛnmɑ̃. ami, ʃ sɑ̃s dy sɔʁ la sɔ̃bʁ plenityd ʒe kɔmɑ̃se la mɔʁ paʁ də la sɔlityd, ʃ vwa mɔ̃ pʁɔfɔ̃ swar vaɡmɑ̃ setwale vwasi lœʁ u ʃ vɛ, osi mwa, mɛn ale. mɔ̃ fil tʁo lɔ̃ fʁisɔn e tuʃ pʁɛsk o ɡlɛv l vɑ̃ ki tɑ̃pɔʁta dusmɑ̃ mø sulɛv, e ʃ vɛ swir sø ki mɛmɛ, mwa, bani. lœʁ œj fiks matiʁ o fɔ̃ də lɛ̃fini. ʒi kuʁ. nə fɛʁme pa la pɔʁt fyneʁɛʁ. pasɔ̃ kaʁ sɛst la lwa nyl nə pø si sustʁɛʁ tu pɑ̃ʃ e sə ɡʁɑ̃ sjɛkl avɛk tu se ʁɛjɔ̃ ɑ̃tʁ ɑ̃ sɛt ɔ̃bʁ imɑ̃s u pɑl nu fɥijɔ̃. o! kɛl faʁuʃ bʁɥi fɔ̃ dan l kʁepyskyl le ʃɛn kɔ̃ aba puʁ l byʃe de-ɛʁkyl! le ʃəvo də la mɔʁ sə mɛt a aniʁ, e sɔ̃ ʒwajø, kaʁ lɑʒ eklatɑ̃ va finiʁ sə sjɛkl altje ki sy dɔ̃pte l vɑ̃ kɔ̃tʁɛʁ, ɛkspiʁ o ɡotje! twa, lœʁ eɡal e lœʁ fʁɛʁ, ty paʁ apʁɛ dymɑ, lamaʁtin e mysɛ. lɔ̃d ɑ̃tik ɛ taʁi u lɔ̃ ʁaʒœnisɛ kɔm i nɛst ply də stiks i nɛst ply də ʒuvɑ̃s. l dyʁ foʃœʁ avɛk sa laʁʒ lam avɑ̃s pɑ̃sif e pa a pa vɛʁ l ʁɛst dy ble sɛst mɔ̃ tuʁ e la nwi ɑ̃pli mɔ̃ œj tʁuble ki, dəvinɑ̃, ela, lavniʁ de kɔlɔ̃b, plœʁ syʁ de bɛʁso e suʁi a de tɔ̃b.'"
      ]
     },
     "execution_count": 39,
     "metadata": {},
     "output_type": "execute_result"
    }
   ],
   "source": [
    "model(\"Ami, poète, esprit, tu fuis notre nuit noire. Tu sors de nos rumeurs pour entrer dans la gloire; Et désormais ton nom rayonne aux purs sommets. Moi qui t’ai connu jeune et beau, moi qui t’aimais, Moi qui, plus d’une fois, dans nos altiers coups d’aile, Éperdu, m’appuyais sur ton âme fidèle, Moi, blanchi par les jours sur ma tête neigeant, Je me souviens des temps écoulés, et songeant A ce jeune passé qui vit nos deux aurores, A la lutte, à l’orage, aux arènes sonores, A l’art nouveau qui s’offre, au peuple criant oui, J’écoute ce grand vent sublime évanoui. Fils de la Grèce antique et de la jeune France, Ton fier respect des morts fut rempli d’espérance; Jamais tu ne fermas les yeux à l’avenir. Mage à Thèbes, druide au pied du noir menhir, Flamine aux bords du Tibre et brahme aux bords du Gange, Mettant sur l’arc du dieu la flèche de l’archange, D’Achille et de Roland hantant les deux chevets, Forgeur mystérieux et puissant, tu savais Tordre tous les rayons dans une seule flamme; Le couchant rencontrait l’aurore dans ton âme; Hier croisait demain dans ton fécond cerveau; Tu sacrais le vieil art aïeul de l’art nouveau; Tu comprenais qu’il faut, lorsqu’une âme inconnue Parle au peuple, envolée en éclairs dans la nue, L’écouter, l’accepter; l’aimer, ouvrir les coeurs; Calme, tu dédaignais l’effort vil des moqueurs Écumant sur Eschyle et bavant sur Shakspeare; Tu savais que ce siècle a son air qu’il respire, Et que, l’art ne marchant qu’en se transfigurant, C’est embellir le beau que d’y joindre le grand. Et l’on t’a vu pousser d’illustres cris de joie Quand le Drame a saisi Paris comme une proie, Quand l’antique hiver fut chassé par Floréal, Quand l’astre inattendu du moderne idéal Est venu tout à coup, dans le ciel qui s’embrase Luire, et quand l’Hippogriffe a relayé Pégase! Je te salue au seuil sévère du tombeau. Va chercher le vrai, toi qui sus trouver le beau. Monte l’âpre escalier. Du haut des sombres marches, Du noir pont de l’abîme on entrevoit les arches; Va! meurs! la dernière heure est le dernier degré. Pars, aigle, tu vas voir des gouffres à ton gré; Tu vas voir l’absolu, le réel, le sublime. Tu vas sentir le vent sinistre de la cime Et l’éblouissement du prodige éternel. Ton olympe, tu vas le voir du haut du ciel, Tu vas du haut du vrai voir l’humaine chimère, Même celle de Job, même celle d’Homère, Ame, et du haut de Dieu tu vas voir Jéhovah. Monte, esprit! Grandis, plane, ouvre tes ailes, va! Lorsqu’un vivant nous quitte, ému, je le contemple; Car entrer dans la mort, c’est entrer dans le temple Et quand un homme meurt, je vois distinctement Dans son ascension mon propre avènement. Ami, je sens du sort la sombre plénitude; J’ai commencé la mort par de la solitude, Je vois mon profond soir vaguement s’étoiler; Voici l’heure où je vais, aussi moi, m’en aller. Mon fil trop long frissonne et touche presque au glaive; Le vent qui t’emporta doucement me soulève, Et je vais suivre ceux qui m’aimaient, moi, banni. Leur oeil fixe m’attire au fond de l’infini. J’y cours. Ne fermez pas la porte funéraire. Passons; car c’est la loi; nul ne peut s’y soustraire; Tout penche; et ce grand siècle avec tous ses rayons Entre en cette ombre immense où pâles nous fuyons. Oh! quel farouche bruit font dans le crépuscule Les chênes qu’on abat pour le bûcher d’Hercule! Les chevaux de la mort se mettent à hennir, Et sont joyeux, car l’âge éclatant va finir; Ce siècle altier qui sut dompter le vent contraire, Expire ô Gautier! toi, leur égal et leur frère, Tu pars après Dumas, Lamartine et Musset. L’onde antique est tarie où l’on rajeunissait; Comme il n’est plus de Styx il n’est plus de Jouvence. Le dur faucheur avec sa large lame avance Pensif et pas à pas vers le reste du blé; C’est mon tour; et la nuit emplit mon oeil troublé Qui, devinant, hélas, l’avenir des colombes, Pleure sur des berceaux et sourit à des tombes.\", lang=\"fr\")"
   ]
  },
  {
   "cell_type": "code",
   "execution_count": 41,
   "metadata": {},
   "outputs": [],
   "source": [
    "text = \"Ami, poète, esprit, tu fuis notre nuit noire. Tu sors de nos rumeurs pour entrer dans la gloire; Et désormais ton nom rayonne aux purs sommets. Moi qui t’ai connu jeune et beau, moi qui t’aimais, Moi qui, plus d’une fois, dans nos altiers coups d’aile, Éperdu, m’appuyais sur ton âme fidèle, Moi, blanchi par les jours sur ma tête neigeant, Je me souviens des temps écoulés, et songeant A ce jeune passé qui vit nos deux aurores, A la lutte, à l’orage, aux arènes sonores, A l’art nouveau qui s’offre, au peuple criant oui, J’écoute ce grand vent sublime évanoui. Fils de la Grèce antique et de la jeune France, Ton fier respect des morts fut rempli d’espérance; Jamais tu ne fermas les yeux à l’avenir. Mage à Thèbes, druide au pied du noir menhir, Flamine aux bords du Tibre et brahme aux bords du Gange, Mettant sur l’arc du dieu la flèche de l’archange, D’Achille et de Roland hantant les deux chevets, Forgeur mystérieux et puissant, tu savais Tordre tous les rayons dans une seule flamme; Le couchant rencontrait l’aurore dans ton âme; Hier croisait demain dans ton fécond cerveau; Tu sacrais le vieil art aïeul de l’art nouveau; Tu comprenais qu’il faut, lorsqu’une âme inconnue Parle au peuple, envolée en éclairs dans la nue, L’écouter, l’accepter; l’aimer, ouvrir les coeurs; Calme, tu dédaignais l’effort vil des moqueurs Écumant sur Eschyle et bavant sur Shakspeare; Tu savais que ce siècle a son air qu’il respire, Et que, l’art ne marchant qu’en se transfigurant, C’est embellir le beau que d’y joindre le grand. Et l’on t’a vu pousser d’illustres cris de joie Quand le Drame a saisi Paris comme une proie, Quand l’antique hiver fut chassé par Floréal, Quand l’astre inattendu du moderne idéal Est venu tout à coup, dans le ciel qui s’embrase Luire, et quand l’Hippogriffe a relayé Pégase! Je te salue au seuil sévère du tombeau. Va chercher le vrai, toi qui sus trouver le beau. Monte l’âpre escalier. Du haut des sombres marches, Du noir pont de l’abîme on entrevoit les arches; Va! meurs! la dernière heure est le dernier degré. Pars, aigle, tu vas voir des gouffres à ton gré; Tu vas voir l’absolu, le réel, le sublime. Tu vas sentir le vent sinistre de la cime Et l’éblouissement du prodige éternel. Ton olympe, tu vas le voir du haut du ciel, Tu vas du haut du vrai voir l’humaine chimère, Même celle de Job, même celle d’Homère, Ame, et du haut de Dieu tu vas voir Jéhovah. Monte, esprit! Grandis, plane, ouvre tes ailes, va! Lorsqu’un vivant nous quitte, ému, je le contemple; Car entrer dans la mort, c’est entrer dans le temple Et quand un homme meurt, je vois distinctement Dans son ascension mon propre avènement. Ami, je sens du sort la sombre plénitude; J’ai commencé la mort par de la solitude, Je vois mon profond soir vaguement s’étoiler; Voici l’heure où je vais, aussi moi, m’en aller. Mon fil trop long frissonne et touche presque au glaive; Le vent qui t’emporta doucement me soulève, Et je vais suivre ceux qui m’aimaient, moi, banni. Leur oeil fixe m’attire au fond de l’infini. J’y cours. Ne fermez pas la porte funéraire. Passons; car c’est la loi; nul ne peut s’y soustraire; Tout penche; et ce grand siècle avec tous ses rayons Entre en cette ombre immense où pâles nous fuyons. Oh! quel farouche bruit font dans le crépuscule Les chênes qu’on abat pour le bûcher d’Hercule! Les chevaux de la mort se mettent à hennir, Et sont joyeux, car l’âge éclatant va finir; Ce siècle altier qui sut dompter le vent contraire, Expire ô Gautier! toi, leur égal et leur frère, Tu pars après Dumas, Lamartine et Musset. L’onde antique est tarie où l’on rajeunissait; Comme il n’est plus de Styx il n’est plus de Jouvence. Le dur faucheur avec sa large lame avance Pensif et pas à pas vers le reste du blé; C’est mon tour; et la nuit emplit mon oeil troublé Qui, devinant, hélas, l’avenir des colombes, Pleure sur des berceaux et sourit à des tombes\""
   ]
  },
  {
   "cell_type": "code",
   "execution_count": 43,
   "metadata": {},
   "outputs": [],
   "source": [
    "import re\n",
    "\n",
    "fr_phonemes = ['a',\n",
    " 'b',\n",
    " 'd',\n",
    " 'e',\n",
    " 'f',\n",
    " 'i',\n",
    " 'j',\n",
    " 'k',\n",
    " 'l',\n",
    " 'm',\n",
    " 'n',\n",
    " 'o',\n",
    " 'p',\n",
    " 'r',\n",
    " 's',\n",
    " 't',\n",
    " 'u',\n",
    " 'v',\n",
    " 'w',\n",
    " 'y',\n",
    " 'z',\n",
    " 'ø',\n",
    " 'ŋ',\n",
    " 'œ',\n",
    " 'œ̃',\n",
    " 'ɑ',\n",
    " 'ɑ̃',\n",
    " 'ɔ',\n",
    " 'ɔ̃',\n",
    " 'ə',\n",
    " 'ɛ',\n",
    " 'ɛː',\n",
    " 'ɛ̃',\n",
    " 'ɡ',\n",
    " 'ɥ',\n",
    " 'ɲ',\n",
    " 'ʁ',\n",
    " 'ʃ',\n",
    " 'ʒ',\n",
    " '‿']\n",
    "\n",
    "def split_phon(text,phoneme_list):\n",
    "    def get_phontrans(text, phoneme_list):\n",
    "        words = text.split()\n",
    "        transcriptions = model(words, lang='fr')\n",
    "\n",
    "        phoneme_list = sorted(phoneme_list, key=len, reverse=True)\n",
    "    \n",
    "        formatted_transcriptions = {}\n",
    "        unique_phonemes = set()\n",
    "        for word, transcription in zip(words, transcriptions):\n",
    "    \n",
    "            spaced_transcription = ' '.join(re.findall('|'.join(map(re.escape, phoneme_list)), transcription))\n",
    "            formatted_transcriptions[word] = spaced_transcription\n",
    "            unique_phonemes.update(spaced_transcription.split())\n",
    "\n",
    "        return formatted_transcriptions, sorted(unique_phonemes)\n",
    "    \n",
    "    out = get_phontrans(text, phoneme_list)\n",
    "    transcription = out[0]\n",
    "    for word, phonetic in transcription.items():\n",
    "        print(f\"{word}: {phonetic}\")\n",
    "    print(out[1])\n"
   ]
  },
  {
   "cell_type": "code",
   "execution_count": 44,
   "metadata": {},
   "outputs": [
    {
     "name": "stdout",
     "output_type": "stream",
     "text": [
      "Ami,: a m i\n",
      "poète,: p ɔ ɛ t\n",
      "esprit,: ɛ s p ʁ i\n",
      "tu: t y\n",
      "fuis: f ɥ i\n",
      "notre: n ɔ t ʁ\n",
      "nuit: n w i\n",
      "noire.: n w a ʁ\n",
      "Tu: t y\n",
      "sors: s ɔ ʁ\n",
      "de: d ə\n",
      "nos: n o\n",
      "rumeurs: ʁ y m œ ʁ\n",
      "pour: p u ʁ\n",
      "entrer: ɑ̃ t ʁ e\n",
      "dans: d a n\n",
      "la: l a\n",
      "gloire;: ɡ l w a ʁ\n",
      "Et: e\n",
      "désormais: d e z ɔ ʁ m ɛ\n",
      "ton: t ɔ̃\n",
      "nom: n ɔ̃\n",
      "rayonne: ʁ ɛ j ɔ n\n",
      "aux: o\n",
      "purs: p y ʁ\n",
      "sommets.: s ɔ m ɛ\n",
      "Moi: m w a\n",
      "qui: k i\n",
      "t’ai: t e\n",
      "connu: k ɔ n y\n",
      "jeune: ʒ œ n\n",
      "et: e\n",
      "beau,: b o\n",
      "moi: m w a\n",
      "t’aimais,: t ɛ m ɛ\n",
      "qui,: k i\n",
      "plus: p l y\n",
      "d’une: d y n\n",
      "fois,: f w a\n",
      "altiers: a l t j e\n",
      "coups: k u\n",
      "d’aile,: d ɛ l\n",
      "Éperdu,: e p ɛ ʁ d y\n",
      "m’appuyais: m a p ɥ i j ɛ\n",
      "sur: s y ʁ\n",
      "âme: a m\n",
      "fidèle,: f i d ɛ l\n",
      "Moi,: m w a\n",
      "blanchi: b l ɑ̃ ʃ i\n",
      "par: p a ʁ\n",
      "les: l e\n",
      "jours: ʒ u ʁ\n",
      "ma: m a\n",
      "tête: t ɛ t\n",
      "neigeant,: n ɛ ʒ ɑ̃\n",
      "Je: ʃ\n",
      "me: m ø\n",
      "souviens: s u v j ɛ̃\n",
      "des: d e\n",
      "temps: t ɑ̃\n",
      "écoulés,: e k u l e\n",
      "songeant: s ɔ̃ ʒ ɑ̃\n",
      "A: a\n",
      "ce: s ə\n",
      "passé: p a s e\n",
      "vit: v i\n",
      "deux: d ø\n",
      "aurores,: o ʁ ɔ ʁ\n",
      "lutte,: l y t\n",
      "à: a\n",
      "l’orage,: l ɔ ʁ a ʒ\n",
      "arènes: a ʁ ɛ n\n",
      "sonores,: s ɔ n ɔ ʁ\n",
      "l’art: l a ʁ\n",
      "nouveau: n u v o\n",
      "s’offre,: s ɔ f ʁ\n",
      "au: o\n",
      "peuple: p œ p l\n",
      "criant: k ʁ i j ɑ̃\n",
      "oui,: w i\n",
      "J’écoute: ʒ e k u t\n",
      "grand: ɡ ʁ ɑ̃\n",
      "vent: v ɑ̃\n",
      "sublime: s y b l i m\n",
      "évanoui.: e v a n w i\n",
      "Fils: f i\n",
      "Grèce: ɡ ʁ ɛ s\n",
      "antique: ɑ̃ t i k\n",
      "France,: f ʁ ɑ̃ s\n",
      "Ton: t ɔ̃\n",
      "fier: f j e\n",
      "respect: ʁ ɛ s p ɛ\n",
      "morts: m ɔ ʁ\n",
      "fut: f y\n",
      "rempli: ʁ ɑ̃ p l i\n",
      "d’espérance;: d ɛ s p e ʁ ɑ̃ s\n",
      "Jamais: ʒ a m e\n",
      "ne: n ə\n",
      "fermas: f ɛ ʁ m ɑ\n",
      "yeux: j ø\n",
      "l’avenir.: l a v n i ʁ\n",
      "Mage: m a ʒ\n",
      "Thèbes,: t ɛ b\n",
      "druide: d ʁ ɥ i d\n",
      "pied: p j e\n",
      "du: d y\n",
      "noir: n w a ʁ\n",
      "menhir,: m e n i ʁ\n",
      "Flamine: f l a m i n\n",
      "bords: b ɔ ʁ\n",
      "Tibre: t i b ʁ\n",
      "brahme: b ʁ a m\n",
      "Gange,: ɡ ɑ̃ ʒ\n",
      "Mettant: m ɛ t ɑ̃\n",
      "l’arc: l a ʁ\n",
      "dieu: d j ø\n",
      "flèche: f l ɛ ʃ\n",
      "l’archange,: l a ʁ ʃ ɑ̃ ʒ\n",
      "D’Achille: d e a ʃ i l\n",
      "Roland: ʁ ɔ l ɑ̃\n",
      "hantant: ɑ̃ t ɑ̃\n",
      "chevets,: ʃ ə v ɛ\n",
      "Forgeur: f ɔ ʁ ʒ œ ʁ\n",
      "mystérieux: m i s t e ʁ j ø\n",
      "puissant,: p ɥ i s ɑ̃\n",
      "savais: s a v ɛ\n",
      "Tordre: t ɔ ʁ d ʁ\n",
      "tous: t u\n",
      "rayons: ʁ ɛ j ɔ̃\n",
      "une: y n\n",
      "seule: s œ l\n",
      "flamme;: f l ɑ m\n",
      "Le: l\n",
      "couchant: k u ʃ ɑ̃\n",
      "rencontrait: ʁ ɑ̃ k ɔ̃ t ʁ ɛ\n",
      "l’aurore: l o ʁ ɔ ʁ\n",
      "âme;: a m\n",
      "Hier: i e\n",
      "croisait: k ʁ w a z ɛ\n",
      "demain: d ə m ɛ̃\n",
      "fécond: f e k ɔ̃\n",
      "cerveau;: s ɛ ʁ v o\n",
      "sacrais: s a k ʁ ɛ\n",
      "le: l\n",
      "vieil: v j ɛ j ‿\n",
      "art: a ʁ\n",
      "aïeul: a j œ l\n",
      "nouveau;: n u v o\n",
      "comprenais: k ɔ̃ p ʁ ə n ɛ\n",
      "qu’il: k i l\n",
      "faut,: f o\n",
      "lorsqu’une: l ɔ ʁ s k y n\n",
      "inconnue: ɛ̃ k ɔ n y\n",
      "Parle: p a ʁ l\n",
      "peuple,: p œ p l\n",
      "envolée: ɑ̃ v ɔ l e\n",
      "en: ɑ̃\n",
      "éclairs: e k l ɛ ʁ\n",
      "nue,: n y\n",
      "L’écouter,: l e k u t e\n",
      "l’accepter;: l a k s ɛ p t e\n",
      "l’aimer,: l e m e\n",
      "ouvrir: u v ʁ i ʁ\n",
      "coeurs;: k œ ʁ\n",
      "Calme,: k a l m\n",
      "dédaignais: d e d ɛ ɲ ɛ\n",
      "l’effort: l ɛ f ɔ ʁ\n",
      "vil: v i l\n",
      "moqueurs: m ɔ k œ ʁ\n",
      "Écumant: e k y m ɑ̃\n",
      "Eschyle: ɛ ʃ i l\n",
      "bavant: b a v ɑ̃\n",
      "Shakspeare;: ʃ a k s p i ʁ\n",
      "que: k ə\n",
      "siècle: s j ɛ k l\n",
      "a: a\n",
      "son: s ɔ̃\n",
      "air: ɛ ʁ\n",
      "respire,: ʁ ɛ s p i ʁ\n",
      "que,: k ə\n",
      "marchant: m a ʁ ʃ ɑ̃\n",
      "qu’en: k ɑ̃\n",
      "se: s ə\n",
      "transfigurant,: t ʁ ɑ̃ s f i ɡ y ʁ ɑ̃\n",
      "C’est: s ɛ s t\n",
      "embellir: ɑ̃ b e l i ʁ\n",
      "beau: b o\n",
      "d’y: d i\n",
      "joindre: ʒ w ɛ̃ d ʁ\n",
      "grand.: ɡ ʁ ɑ̃\n",
      "l’on: l ɔ̃\n",
      "t’a: t a\n",
      "vu: v y\n",
      "pousser: p u s e\n",
      "d’illustres: d i j y s t ʁ\n",
      "cris: k ʁ i\n",
      "joie: ʒ w a\n",
      "Quand: e k ɑ̃\n",
      "Drame: d ʁ a m\n",
      "saisi: s ɛ z i\n",
      "Paris: p a ʁ i\n",
      "comme: k ɔ m\n",
      "proie,: p ʁ w ɑ\n",
      "l’antique: l ɑ̃ t i k\n",
      "hiver: i v ɛ ʁ\n",
      "chassé: ʃ a s e\n",
      "Floréal,: f l ɔ ʁ e a l\n",
      "l’astre: l a s t ʁ\n",
      "inattendu: i n a t ɑ̃ d y\n",
      "moderne: m ɔ d ɛ ʁ n\n",
      "idéal: i d e a l\n",
      "Est: ɛ\n",
      "venu: v ə n y\n",
      "tout: t u\n",
      "coup,: k u\n",
      "ciel: s j ɛ l\n",
      "s’embrase: s ɑ̃ b ʁ a z\n",
      "Luire,: l ɥ i ʁ\n",
      "quand: e k ɑ̃\n",
      "l’Hippogriffe: ɛ l i p ɔ ɡ ʁ i f\n",
      "relayé: ʁ ə l ɛ j e\n",
      "Pégase!: p e ɡ a z\n",
      "te: t ə\n",
      "salue: s a l y\n",
      "seuil: s œ j\n",
      "sévère: s e v ɛ ʁ\n",
      "tombeau.: t ɔ̃ b o\n",
      "Va: v a\n",
      "chercher: ʃ ɛ ʁ ʃ e\n",
      "vrai,: v ʁ ɛ\n",
      "toi: t w a\n",
      "sus: s y\n",
      "trouver: t ʁ u v e\n",
      "beau.: b o\n",
      "Monte: m ɔ̃ t\n",
      "l’âpre: l ɑ p ʁ\n",
      "escalier.: ɛ s k a l j e\n",
      "Du: d y\n",
      "haut: o\n",
      "sombres: s ɔ̃ b ʁ\n",
      "marches,: m a ʁ ʃ\n",
      "pont: p ɔ̃\n",
      "l’abîme: l a b i m\n",
      "on: ɔ̃\n",
      "entrevoit: ɑ̃ t ʁ ə v w a\n",
      "arches;: a ʁ ʃ\n",
      "Va!: v a\n",
      "meurs!: m œ ʁ\n",
      "dernière: d ɛ ʁ n j ɛ ʁ\n",
      "heure: œ ʁ\n",
      "est: ɛ\n",
      "dernier: d ɛ ʁ n j e\n",
      "degré.: d ə ɡ ʁ e\n",
      "Pars,: p a ʁ\n",
      "aigle,: ɛ ɡ l\n",
      "vas: v a\n",
      "voir: v w a ʁ\n",
      "gouffres: ɡ u f ʁ\n",
      "gré;: ɡ ʁ e\n",
      "l’absolu,: l a p s ɔ l y\n",
      "réel,: ʁ e ɛ l\n",
      "sublime.: s y b l i m\n",
      "sentir: s ɑ̃ t i ʁ\n",
      "sinistre: s i n i s t ʁ\n",
      "cime: s i m\n",
      "l’éblouissement: l e b l u i s m ɑ̃\n",
      "prodige: p ʁ ɔ d i ʒ\n",
      "éternel.: e t ɛ ʁ n ɛ l\n",
      "olympe,: ɔ l ɛ̃ p\n",
      "ciel,: s j ɛ l\n",
      "vrai: v ʁ ɛ\n",
      "l’humaine: l y m ɛ n\n",
      "chimère,: ʃ i m ɛ ʁ\n",
      "Même: m ɛ m\n",
      "celle: s ɛ l\n",
      "Job,: d ʒ ɔ b\n",
      "même: m ɛ m\n",
      "d’Homère,: d e o m ɛ ʁ\n",
      "Ame,: ɛ m\n",
      "Dieu: d j ø\n",
      "Jéhovah.: ʒ e ɔ v a\n",
      "Monte,: m ɔ̃ t\n",
      "esprit!: ɛ s p ʁ i\n",
      "Grandis,: ɡ ʁ ɑ̃ d i\n",
      "plane,: p l a n\n",
      "ouvre: u v ʁ\n",
      "tes: t e\n",
      "ailes,: ɛ l\n",
      "va!: v a\n",
      "Lorsqu’un: l ɔ ʁ s k œ̃\n",
      "vivant: v i v ɑ̃\n",
      "nous: n u\n",
      "quitte,: k i t\n",
      "ému,: e m y\n",
      "je: ʃ\n",
      "contemple;: k ɔ̃ t ɑ̃ p l\n",
      "Car: k a ʁ\n",
      "mort,: m ɔ ʁ\n",
      "c’est: s ɛ s t\n",
      "temple: t ɑ̃ p l\n",
      "un: œ̃\n",
      "homme: ɔ m\n",
      "meurt,: m œ ʁ\n",
      "vois: v w a\n",
      "distinctement: d i s t ɛ̃ k t ə m ɑ̃\n",
      "Dans: d a n\n",
      "ascension: a s ɑ̃ s j ɔ̃\n",
      "mon: m ɔ̃\n",
      "propre: p ʁ ɔ p ʁ\n",
      "avènement.: a v ɛ n m ɑ̃\n",
      "sens: s ɑ̃ s\n",
      "sort: s ɔ ʁ\n",
      "sombre: s ɔ̃ b ʁ\n",
      "plénitude;: p l e n i t y d\n",
      "J’ai: ʒ e\n",
      "commencé: k ɔ m ɑ̃ s e\n",
      "mort: m ɔ ʁ\n",
      "solitude,: s ɔ l i t y d\n",
      "profond: p ʁ ɔ f ɔ̃\n",
      "soir: s w a r\n",
      "vaguement: v a ɡ m ɑ̃\n",
      "s’étoiler;: s e t w a l e\n",
      "Voici: v w a s i\n",
      "l’heure: l œ ʁ\n",
      "où: u\n",
      "vais,: v ɛ\n",
      "aussi: o s i\n",
      "moi,: m w a\n",
      "m’en: m ɛ n\n",
      "aller.: a l e\n",
      "Mon: m ɔ̃\n",
      "fil: f i l\n",
      "trop: t ʁ o\n",
      "long: l ɔ̃\n",
      "frissonne: f ʁ i s ɔ n\n",
      "touche: t u ʃ\n",
      "presque: p ʁ ɛ s k\n",
      "glaive;: ɡ l ɛ v\n",
      "t’emporta: t ɑ̃ p ɔ ʁ t a\n",
      "doucement: d u s m ɑ̃\n",
      "soulève,: s u l ɛ v\n",
      "vais: v ɛ\n",
      "suivre: s w i r\n",
      "ceux: s ø\n",
      "m’aimaient,: m ɛ m ɛ\n",
      "banni.: b a n i\n",
      "Leur: l œ ʁ\n",
      "oeil: œ j\n",
      "fixe: f i k s\n",
      "m’attire: m a t i ʁ\n",
      "fond: f ɔ̃\n",
      "l’infini.: l ɛ̃ f i n i\n",
      "J’y: ʒ i\n",
      "cours.: k u ʁ\n",
      "Ne: n ə\n",
      "fermez: f ɛ ʁ m e\n",
      "pas: p a\n",
      "porte: p ɔ ʁ t\n",
      "funéraire.: f y n e ʁ ɛ ʁ\n",
      "Passons;: p a s ɔ̃\n",
      "car: k a ʁ\n",
      "loi;: l w a\n",
      "nul: n y l\n",
      "peut: p ø\n",
      "s’y: s i\n",
      "soustraire;: s u s t ʁ ɛ ʁ\n",
      "Tout: t u\n",
      "penche;: p ɑ̃ ʃ\n",
      "avec: a v ɛ k\n",
      "ses: s e\n",
      "Entre: ɑ̃ t ʁ\n",
      "cette: s ɛ t\n",
      "ombre: ɔ̃ b ʁ\n",
      "immense: i m ɑ̃ s\n",
      "pâles: p ɑ l\n",
      "fuyons.: f ɥ i j ɔ̃\n",
      "Oh!: o\n",
      "quel: k ɛ l\n",
      "farouche: f a ʁ u ʃ\n",
      "bruit: b ʁ ɥ i\n",
      "font: f ɔ̃\n",
      "crépuscule: k ʁ e p y s k y l\n",
      "Les: l e\n",
      "chênes: ʃ ɛ n\n",
      "qu’on: k ɔ̃\n",
      "abat: a b a\n",
      "bûcher: b y ʃ e\n",
      "d’Hercule!: d e ɛ ʁ k y l\n",
      "chevaux: ʃ ə v o\n",
      "mettent: m ɛ t\n",
      "hennir,: a n i ʁ\n",
      "sont: s ɔ̃\n",
      "joyeux,: ʒ w a j ø\n",
      "l’âge: l ɑ ʒ\n",
      "éclatant: e k l a t ɑ̃\n",
      "va: v a\n",
      "finir;: f i n i ʁ\n",
      "Ce: s ə\n",
      "altier: a l t j e\n",
      "sut: s y\n",
      "dompter: d ɔ̃ p t e\n",
      "contraire,: k ɔ̃ t ʁ ɛ ʁ\n",
      "Expire: ɛ k s p i ʁ\n",
      "ô: o\n",
      "Gautier!: ɡ o t j e\n",
      "toi,: t w a\n",
      "leur: l œ ʁ\n",
      "égal: e ɡ a l\n",
      "frère,: f ʁ ɛ ʁ\n",
      "pars: p a ʁ\n",
      "après: a p ʁ ɛ\n",
      "Dumas,: d y m ɑ\n",
      "Lamartine: l a m a ʁ t i n\n",
      "Musset.: m y s ɛ\n",
      "L’onde: l ɔ̃ d\n",
      "tarie: t a ʁ i\n",
      "rajeunissait;: ʁ a ʒ œ n i s ɛ\n",
      "Comme: k ɔ m\n",
      "il: i\n",
      "n’est: n ɛ s t\n",
      "Styx: s t i k s\n",
      "Jouvence.: ʒ u v ɑ̃ s\n",
      "dur: d y ʁ\n",
      "faucheur: f o ʃ œ ʁ\n",
      "sa: s a\n",
      "large: l a ʁ ʒ\n",
      "lame: l a m\n",
      "avance: a v ɑ̃ s\n",
      "Pensif: p ɑ̃ s i f\n",
      "vers: v ɛ ʁ\n",
      "reste: ʁ ɛ s t\n",
      "blé;: b l e\n",
      "tour;: t u ʁ\n",
      "emplit: ɑ̃ p l i\n",
      "troublé: t ʁ u b l e\n",
      "Qui,: k i\n",
      "devinant,: d ə v i n ɑ̃\n",
      "hélas,: e l a\n",
      "l’avenir: l a v n i ʁ\n",
      "colombes,: k ɔ l ɔ̃ b\n",
      "Pleure: p l œ ʁ\n",
      "berceaux: b ɛ ʁ s o\n",
      "sourit: s u ʁ i\n",
      "tombes: t ɔ̃ b\n",
      "['a', 'b', 'd', 'e', 'f', 'i', 'j', 'k', 'l', 'm', 'n', 'o', 'p', 'r', 's', 't', 'u', 'v', 'w', 'y', 'z', 'ø', 'œ', 'œ̃', 'ɑ', 'ɑ̃', 'ɔ', 'ɔ̃', 'ə', 'ɛ', 'ɛ̃', 'ɡ', 'ɥ', 'ɲ', 'ʁ', 'ʃ', 'ʒ', '‿']\n"
     ]
    }
   ],
   "source": [
    "split_phon(text,fr_phonemes)"
   ]
  },
  {
   "cell_type": "code",
   "execution_count": null,
   "metadata": {},
   "outputs": [],
   "source": []
  },
  {
   "cell_type": "code",
   "execution_count": 56,
   "metadata": {},
   "outputs": [
    {
     "data": {
      "text/plain": [
       "'wit'"
      ]
     },
     "execution_count": 56,
     "metadata": {},
     "output_type": "execute_result"
    }
   ],
   "source": [
    "model(\"huit\",lang=\"fr\")"
   ]
  },
  {
   "cell_type": "code",
   "execution_count": 55,
   "metadata": {},
   "outputs": [
    {
     "data": {
      "text/plain": [
       "'ɥit'"
      ]
     },
     "execution_count": 55,
     "metadata": {},
     "output_type": "execute_result"
    }
   ],
   "source": [
    "model(\"huite\",lang=\"fr\")"
   ]
  },
  {
   "cell_type": "code",
   "execution_count": 57,
   "metadata": {},
   "outputs": [
    {
     "data": {
      "text/plain": [
       "'lɥi'"
      ]
     },
     "execution_count": 57,
     "metadata": {},
     "output_type": "execute_result"
    }
   ],
   "source": [
    "model(\"lui\",lang=\"fr\")"
   ]
  },
  {
   "cell_type": "code",
   "execution_count": 58,
   "metadata": {},
   "outputs": [
    {
     "data": {
      "text/plain": [
       "'lui'"
      ]
     },
     "execution_count": 58,
     "metadata": {},
     "output_type": "execute_result"
    }
   ],
   "source": [
    "model(\"louis\",lang=\"fr\")"
   ]
  },
  {
   "cell_type": "code",
   "execution_count": 60,
   "metadata": {},
   "outputs": [
    {
     "data": {
      "text/plain": [
       "'kʁistin'"
      ]
     },
     "execution_count": 60,
     "metadata": {},
     "output_type": "execute_result"
    }
   ],
   "source": [
    "model(\"christine\",lang=\"fr\")"
   ]
  },
  {
   "cell_type": "code",
   "execution_count": 80,
   "metadata": {},
   "outputs": [
    {
     "data": {
      "text/plain": [
       "'de-aʃil'"
      ]
     },
     "execution_count": 80,
     "metadata": {},
     "output_type": "execute_result"
    }
   ],
   "source": [
    "model(\"D'Achille\",lang=\"fr\")"
   ]
  },
  {
   "cell_type": "code",
   "execution_count": 78,
   "metadata": {},
   "outputs": [
    {
     "data": {
      "text/plain": [
       "'dʃil'"
      ]
     },
     "execution_count": 78,
     "metadata": {},
     "output_type": "execute_result"
    }
   ],
   "source": [
    "model(\"Dchille\",lang=\"fr\")"
   ]
  },
  {
   "cell_type": "code",
   "execution_count": 79,
   "metadata": {},
   "outputs": [
    {
     "data": {
      "text/plain": [
       "'de-ʃij'"
      ]
     },
     "execution_count": 79,
     "metadata": {},
     "output_type": "execute_result"
    }
   ],
   "source": [
    "model(\"DChille\",lang=\"fr\")"
   ]
  },
  {
   "cell_type": "code",
   "execution_count": 62,
   "metadata": {},
   "outputs": [
    {
     "data": {
      "text/plain": [
       "'fʁɑ̃swa'"
      ]
     },
     "execution_count": 62,
     "metadata": {},
     "output_type": "execute_result"
    }
   ],
   "source": [
    "model(\"françois\",lang=\"fr\")"
   ]
  },
  {
   "cell_type": "code",
   "execution_count": 129,
   "metadata": {},
   "outputs": [],
   "source": [
    "replacements = {\n",
    "    \"a\": [\"A\"],\n",
    "    \"b\": [\"B\"],\n",
    "    \"d\": [\"D\"],\n",
    "    \"e\": [\"E\", \"É\", \"È\", \"Ê\", \"AI\"],\n",
    "    \"f\": [\"F\", \"PH\"],\n",
    "    \"i\": [\"I\", \"Y\"],\n",
    "    \"j\": [\"Y\"],\n",
    "    \"k\": [\"K\", \"C\", \"QU\"],\n",
    "    \"l\": [\"L\", \"LL\"],\n",
    "    \"m\": [\"M\",\"MM\"],\n",
    "    \"n\": [\"N\", \"NN\", \"NE\"],\n",
    "\n",
    "    \"o\": [\"O\", \"AU\", \"EAU\"],\n",
    "    \"p\": [\"P\"],\n",
    "    \"r\": [\"R\", \"RR\"],\n",
    "\n",
    "    \"s\": [\"S\", \"SS\",\"Ç\"],\n",
    "\n",
    "    \"t\": [\"T\", \"TT\"],\n",
    "    \"u\": [\"OU\"],\n",
    "    \"v\": [\"V\"],\n",
    "\n",
    "    #\"wa\": [\"OU\", \"OI\", \"OIT\", \"OIE\", \"WA\"],\n",
    "\n",
    "    \"wi\": [\"UIT\",\"HUI\",\"UI\",\"WI\", \"OUI\",\"OUIS\"],\n",
    "\n",
    "    \"ui\": [\"UIT\",\"HUI\",\"UI\",\"WI\", \"OUI\",\"OUIS\"],\n",
    "\n",
    "    \"ɥi\": [\"UIT\",\"HUI\",\"UI\",\"WI\", \"OUI\",\"OUIS\"],\n",
    "    \n",
    "\n",
    "    \"y\": [\"U\"],\n",
    "    \"z\": [\"Z\", \"S\"],\n",
    "    \"ø\": [\"EU\", \"ŒU\"],\n",
    "    \"ŋ\": [\"NG\"],\n",
    "    \"œ\": [\"Œ\", \"EU\", \"ŒU\"],\n",
    "    \"œ̃\": [\"UN\", \"UM\"],\n",
    "    \"ɑ\": [\"A\"],\n",
    "\n",
    "    \"ɑ̃\": [\"AN\", \"AM\", \"EN\", \"EM\", \"AND\", \"ANT\",\"ANS\"],\n",
    "\n",
    "    \"in\": [\"AN\", \"AM\", \"EN\", \"EM\", \"AND\", \"ANT\",\"ANS\"],\n",
    "\n",
    "    \"ɔ\": [\"O\"],\n",
    "    \"ɔ̃\": [\"ON\", \"OM\"],\n",
    "    \"ə\": [\"E\"],\n",
    "    \"ɛ\": [\"E\", \"É\", \"È\", \"Ê\", \"AI\"],\n",
    "    \"ɛː\": [\"E\", \"É\", \"È\", \"Ê\", \"AI\"],\n",
    "    \"ɛ̃\": [\"IN\", \"IM\", \"AIN\", \"EIN\"],\n",
    "    \"ɡ\": [\"G\", \"GU\"],\n",
    "\n",
    "    \"dʒ\": [\"JE\",\"J\", \"GE\"],\n",
    "\n",
    "\n",
    "    \"ɲ\": [\"GN\"],\n",
    "    \"ʁ\": [\"R\"],\n",
    "\n",
    "    \"wa\": [\"OIT\",\"OI\",\"OIE\",\"OUA\",\"WA\",\"UA\"],\n",
    "    \"wɑ\": [\"OIT\",\"OI\",\"OIE\",\"OUA\",\"WA\",\"UA\"],\n",
    "\n",
    "\n",
    "    \"ʃ\": [\"CH\",\"SH\"],\n",
    "    \"ʒ\": [\"J\", \"G\", \"GE\"],\n",
    "}\n"
   ]
  },
  {
   "cell_type": "code",
   "execution_count": 92,
   "metadata": {},
   "outputs": [],
   "source": [
    "import itertools\n",
    "\n",
    "def vars(name):\n",
    "    lenname = len(name)\n",
    "    incr = 0\n",
    "    variations = []\n",
    "\n",
    "    for ind in range(lenname):\n",
    "        for length in range(0, lenname -incr + 1):\n",
    "            substring = name[incr:lenname-length]\n",
    "        # print(substring)\n",
    "            if substring in replacements:\n",
    "                incr += len(substring)            \n",
    "                \n",
    "                if variations == []:\n",
    "                    variations = replacements[substring]\n",
    "                else:\n",
    "                    variations = list(itertools.product(variations,replacements[substring]))\n",
    "                    variations = [''.join(x) for x in variations]\n",
    "                break\n",
    "    return variations\n",
    "                \n"
   ]
  },
  {
   "cell_type": "code",
   "execution_count": 166,
   "metadata": {},
   "outputs": [
    {
     "data": {
      "text/plain": [
       "'wit'"
      ]
     },
     "execution_count": 166,
     "metadata": {},
     "output_type": "execute_result"
    }
   ],
   "source": [
    "model(\"huit\",lang=\"fr\")"
   ]
  },
  {
   "cell_type": "code",
   "execution_count": 174,
   "metadata": {},
   "outputs": [
    {
     "data": {
      "text/plain": [
       "'kʁistin'"
      ]
     },
     "execution_count": 174,
     "metadata": {},
     "output_type": "execute_result"
    }
   ],
   "source": [
    "model(\"christine\",lang=\"fr\")"
   ]
  },
  {
   "cell_type": "code",
   "execution_count": 177,
   "metadata": {},
   "outputs": [
    {
     "data": {
      "text/plain": [
       "'lɥi'"
      ]
     },
     "execution_count": 177,
     "metadata": {},
     "output_type": "execute_result"
    }
   ],
   "source": [
    "# USE AS EXAMPLE \n",
    "model(\"lui\",lang=\"fr\")"
   ]
  },
  {
   "cell_type": "markdown",
   "metadata": {},
   "source": []
  },
  {
   "cell_type": "code",
   "execution_count": null,
   "metadata": {},
   "outputs": [],
   "source": [
    "model(\"lui\",lang=\"fr\")"
   ]
  },
  {
   "cell_type": "code",
   "execution_count": 170,
   "metadata": {},
   "outputs": [
    {
     "data": {
      "text/plain": [
       "'wit'"
      ]
     },
     "execution_count": 170,
     "metadata": {},
     "output_type": "execute_result"
    }
   ],
   "source": [
    "model(\"wite\",lang=\"fr\")"
   ]
  },
  {
   "cell_type": "code",
   "execution_count": 100,
   "metadata": {},
   "outputs": [
    {
     "data": {
      "text/plain": [
       "['BRUIT', 'BRHUI', 'BRUI', 'BRWI', 'BROUI', 'BROUIS']"
      ]
     },
     "execution_count": 100,
     "metadata": {},
     "output_type": "execute_result"
    }
   ],
   "source": [
    "vars(model(\"bruit\",lang=\"fr\"))"
   ]
  },
  {
   "cell_type": "code",
   "execution_count": 101,
   "metadata": {},
   "outputs": [
    {
     "data": {
      "text/plain": [
       "['UITT',\n",
       " 'UITTT',\n",
       " 'HUIT',\n",
       " 'HUITT',\n",
       " 'UIT',\n",
       " 'UITT',\n",
       " 'WIT',\n",
       " 'WITT',\n",
       " 'OUIT',\n",
       " 'OUITT',\n",
       " 'OUIST',\n",
       " 'OUISTT']"
      ]
     },
     "execution_count": 101,
     "metadata": {},
     "output_type": "execute_result"
    }
   ],
   "source": [
    "vars(model(\"huit\",lang=\"fr\"))"
   ]
  },
  {
   "cell_type": "code",
   "execution_count": 102,
   "metadata": {},
   "outputs": [
    {
     "data": {
      "text/plain": [
       "['UITT',\n",
       " 'UITTT',\n",
       " 'HUIT',\n",
       " 'HUITT',\n",
       " 'UIT',\n",
       " 'UITT',\n",
       " 'WIT',\n",
       " 'WITT',\n",
       " 'OUIT',\n",
       " 'OUITT',\n",
       " 'OUIST',\n",
       " 'OUISTT']"
      ]
     },
     "execution_count": 102,
     "metadata": {},
     "output_type": "execute_result"
    }
   ],
   "source": [
    "vars(model(\"huite\",lang=\"fr\"))"
   ]
  },
  {
   "cell_type": "code",
   "execution_count": 103,
   "metadata": {},
   "outputs": [
    {
     "data": {
      "text/plain": [
       "['EVANUIT',\n",
       " 'EVANHUI',\n",
       " 'EVANUI',\n",
       " 'EVANWI',\n",
       " 'EVANOUI',\n",
       " 'EVANOUIS',\n",
       " 'EVANNUIT',\n",
       " 'EVANNHUI',\n",
       " 'EVANNUI',\n",
       " 'EVANNWI',\n",
       " 'EVANNOUI',\n",
       " 'EVANNOUIS',\n",
       " 'EVANEUIT',\n",
       " 'EVANEHUI',\n",
       " 'EVANEUI',\n",
       " 'EVANEWI',\n",
       " 'EVANEOUI',\n",
       " 'EVANEOUIS',\n",
       " 'ÉVANUIT',\n",
       " 'ÉVANHUI',\n",
       " 'ÉVANUI',\n",
       " 'ÉVANWI',\n",
       " 'ÉVANOUI',\n",
       " 'ÉVANOUIS',\n",
       " 'ÉVANNUIT',\n",
       " 'ÉVANNHUI',\n",
       " 'ÉVANNUI',\n",
       " 'ÉVANNWI',\n",
       " 'ÉVANNOUI',\n",
       " 'ÉVANNOUIS',\n",
       " 'ÉVANEUIT',\n",
       " 'ÉVANEHUI',\n",
       " 'ÉVANEUI',\n",
       " 'ÉVANEWI',\n",
       " 'ÉVANEOUI',\n",
       " 'ÉVANEOUIS',\n",
       " 'ÈVANUIT',\n",
       " 'ÈVANHUI',\n",
       " 'ÈVANUI',\n",
       " 'ÈVANWI',\n",
       " 'ÈVANOUI',\n",
       " 'ÈVANOUIS',\n",
       " 'ÈVANNUIT',\n",
       " 'ÈVANNHUI',\n",
       " 'ÈVANNUI',\n",
       " 'ÈVANNWI',\n",
       " 'ÈVANNOUI',\n",
       " 'ÈVANNOUIS',\n",
       " 'ÈVANEUIT',\n",
       " 'ÈVANEHUI',\n",
       " 'ÈVANEUI',\n",
       " 'ÈVANEWI',\n",
       " 'ÈVANEOUI',\n",
       " 'ÈVANEOUIS',\n",
       " 'ÊVANUIT',\n",
       " 'ÊVANHUI',\n",
       " 'ÊVANUI',\n",
       " 'ÊVANWI',\n",
       " 'ÊVANOUI',\n",
       " 'ÊVANOUIS',\n",
       " 'ÊVANNUIT',\n",
       " 'ÊVANNHUI',\n",
       " 'ÊVANNUI',\n",
       " 'ÊVANNWI',\n",
       " 'ÊVANNOUI',\n",
       " 'ÊVANNOUIS',\n",
       " 'ÊVANEUIT',\n",
       " 'ÊVANEHUI',\n",
       " 'ÊVANEUI',\n",
       " 'ÊVANEWI',\n",
       " 'ÊVANEOUI',\n",
       " 'ÊVANEOUIS',\n",
       " 'AIVANUIT',\n",
       " 'AIVANHUI',\n",
       " 'AIVANUI',\n",
       " 'AIVANWI',\n",
       " 'AIVANOUI',\n",
       " 'AIVANOUIS',\n",
       " 'AIVANNUIT',\n",
       " 'AIVANNHUI',\n",
       " 'AIVANNUI',\n",
       " 'AIVANNWI',\n",
       " 'AIVANNOUI',\n",
       " 'AIVANNOUIS',\n",
       " 'AIVANEUIT',\n",
       " 'AIVANEHUI',\n",
       " 'AIVANEUI',\n",
       " 'AIVANEWI',\n",
       " 'AIVANEOUI',\n",
       " 'AIVANEOUIS']"
      ]
     },
     "execution_count": 103,
     "metadata": {},
     "output_type": "execute_result"
    }
   ],
   "source": [
    "vars(model(\"évanoui\",lang=\"fr\"))"
   ]
  },
  {
   "cell_type": "code",
   "execution_count": 115,
   "metadata": {},
   "outputs": [
    {
     "data": {
      "text/plain": [
       "['PR']"
      ]
     },
     "execution_count": 115,
     "metadata": {},
     "output_type": "execute_result"
    }
   ],
   "source": [
    "vars(model(\"proie\",lang=\"fr\"))"
   ]
  },
  {
   "cell_type": "code",
   "execution_count": 116,
   "metadata": {},
   "outputs": [
    {
     "data": {
      "text/plain": [
       "'pʁwɑ'"
      ]
     },
     "execution_count": 116,
     "metadata": {},
     "output_type": "execute_result"
    }
   ],
   "source": [
    "model(\"proie\",lang=\"fr\")"
   ]
  },
  {
   "cell_type": "code",
   "execution_count": 120,
   "metadata": {},
   "outputs": [
    {
     "data": {
      "text/plain": [
       "['PROIT', 'PROI', 'PROIE', 'PROUA', 'PRWA', 'PRUA']"
      ]
     },
     "execution_count": 120,
     "metadata": {},
     "output_type": "execute_result"
    }
   ],
   "source": [
    "vars(model(\"proie\",lang=\"fr\"))"
   ]
  },
  {
   "cell_type": "code",
   "execution_count": null,
   "metadata": {},
   "outputs": [],
   "source": []
  },
  {
   "cell_type": "code",
   "execution_count": 183,
   "metadata": {},
   "outputs": [
    {
     "data": {
      "text/plain": [
       "'dʒin'"
      ]
     },
     "execution_count": 183,
     "metadata": {},
     "output_type": "execute_result"
    }
   ],
   "source": [
    "model(\"Jean\",lang=\"fr\")"
   ]
  },
  {
   "cell_type": "code",
   "execution_count": 121,
   "metadata": {},
   "outputs": [
    {
     "data": {
      "text/plain": [
       "['DJIN',\n",
       " 'DJINN',\n",
       " 'DJINE',\n",
       " 'DJYN',\n",
       " 'DJYNN',\n",
       " 'DJYNE',\n",
       " 'DGIN',\n",
       " 'DGINN',\n",
       " 'DGINE',\n",
       " 'DGYN',\n",
       " 'DGYNN',\n",
       " 'DGYNE',\n",
       " 'DGEIN',\n",
       " 'DGEINN',\n",
       " 'DGEINE',\n",
       " 'DGEYN',\n",
       " 'DGEYNN',\n",
       " 'DGEYNE']"
      ]
     },
     "execution_count": 121,
     "metadata": {},
     "output_type": "execute_result"
    }
   ],
   "source": [
    "vars(model(\"jean\",lang=\"fr\"))"
   ]
  },
  {
   "cell_type": "code",
   "execution_count": 124,
   "metadata": {},
   "outputs": [
    {
     "data": {
      "text/plain": [
       "['JEIN',\n",
       " 'JEINN',\n",
       " 'JEINE',\n",
       " 'JEYN',\n",
       " 'JEYNN',\n",
       " 'JEYNE',\n",
       " 'JIN',\n",
       " 'JINN',\n",
       " 'JINE',\n",
       " 'JYN',\n",
       " 'JYNN',\n",
       " 'JYNE',\n",
       " 'GEIN',\n",
       " 'GEINN',\n",
       " 'GEINE',\n",
       " 'GEYN',\n",
       " 'GEYNN',\n",
       " 'GEYNE']"
      ]
     },
     "execution_count": 124,
     "metadata": {},
     "output_type": "execute_result"
    }
   ],
   "source": [
    "vars(model(\"jean\",lang=\"fr\"))"
   ]
  },
  {
   "cell_type": "code",
   "execution_count": null,
   "metadata": {},
   "outputs": [],
   "source": []
  },
  {
   "cell_type": "code",
   "execution_count": null,
   "metadata": {},
   "outputs": [],
   "source": []
  },
  {
   "cell_type": "code",
   "execution_count": 207,
   "metadata": {},
   "outputs": [],
   "source": [
    "def valid_list(word,vars):\n",
    "    valid = []\n",
    "    for e in vars:\n",
    "        if model(e.lower(), lang='fr') == model(word.lower(), lang='fr'):\n",
    "            valid.append(e+ \" : \" + model(e.lower(), lang='fr'))\n",
    "    return valid"
   ]
  },
  {
   "cell_type": "code",
   "execution_count": 210,
   "metadata": {},
   "outputs": [
    {
     "data": {
      "text/plain": [
       "['JANN : ʒan', 'JANE : ʒan', 'GEANN : ʒan', 'GEANE : ʒan']"
      ]
     },
     "execution_count": 210,
     "metadata": {},
     "output_type": "execute_result"
    }
   ],
   "source": [
    "valid_list(\"Jeanne\",vars(model(\"jeanne\",lang=\"fr\")))"
   ]
  },
  {
   "cell_type": "code",
   "execution_count": 203,
   "metadata": {},
   "outputs": [
    {
     "data": {
      "text/plain": [
       "'ʃ mapɛl ʒan'"
      ]
     },
     "execution_count": 203,
     "metadata": {},
     "output_type": "execute_result"
    }
   ],
   "source": [
    "model(\"je m'appelle Jeanne\",lang=\"fr\")"
   ]
  },
  {
   "cell_type": "code",
   "execution_count": 224,
   "metadata": {},
   "outputs": [
    {
     "data": {
      "text/plain": [
       "'ie'"
      ]
     },
     "execution_count": 224,
     "metadata": {},
     "output_type": "execute_result"
    }
   ],
   "source": [
    "model(\"hier\",lang=\"fr\")"
   ]
  },
  {
   "cell_type": "code",
   "execution_count": 227,
   "metadata": {},
   "outputs": [
    {
     "data": {
      "text/plain": [
       "'ʃ mø nə bə v sə kze və p tə '"
      ]
     },
     "execution_count": 227,
     "metadata": {},
     "output_type": "execute_result"
    }
   ],
   "source": [
    "model(\"je me ne be ve ce xe we pe te \",lang=\"fr\")"
   ]
  },
  {
   "cell_type": "code",
   "execution_count": null,
   "metadata": {},
   "outputs": [],
   "source": []
  },
  {
   "cell_type": "code",
   "execution_count": 226,
   "metadata": {},
   "outputs": [
    {
     "data": {
      "text/plain": [
       "'l lø lœʁ lœʁ'"
      ]
     },
     "execution_count": 226,
     "metadata": {},
     "output_type": "execute_result"
    }
   ],
   "source": [
    "model(\"le leu leur leurs\",lang=\"fr\")"
   ]
  },
  {
   "cell_type": "code",
   "execution_count": null,
   "metadata": {},
   "outputs": [
    {
     "name": "stdout",
     "output_type": "stream",
     "text": [
      "IE: i\n",
      "IÉ: je\n",
      "IÈ: jɛ\n",
      "IÊ: jɛ\n",
      "IAI: je\n",
      "YE: j\n",
      "YÉ: je\n",
      "YÈ: jɛ\n",
      "YÊ: jɛ\n",
      "YAI: je\n"
     ]
    }
   ],
   "source": [
    "#after adding \"in\" phoneme\n",
    "for e in vars(model(\"hier\",lang=\"fr\")):\n",
    "    print(f\"{e}: {model(e.lower(),lang='fr')}\")"
   ]
  },
  {
   "cell_type": "code",
   "execution_count": 218,
   "metadata": {},
   "outputs": [
    {
     "name": "stdout",
     "output_type": "stream",
     "text": [
      "MAYKŒL: makel\n",
      "MAYKŒLL: majkɛl\n",
      "MAYKEUL: majkœl\n",
      "MAYKEULL: mɛjkœl\n",
      "MAYKŒUL: majkœl\n",
      "MAYKŒULL: majkœl\n",
      "MAYCŒL: mɛsel\n",
      "MAYCŒLL: masɛl\n",
      "MAYCEUL: mɛsœl\n",
      "MAYCEULL: mɛsœl\n",
      "MAYCŒUL: mɛkœl\n",
      "MAYCŒULL: mɛkœl\n",
      "MAYQUŒL: makel\n",
      "MAYQUŒLL: mɛkɛl\n",
      "MAYQUEUL: mɛkœl\n",
      "MAYQUEULL: mɛkœl\n",
      "MAYQUŒUL: mɛkœl\n",
      "MAYQUŒULL: mɛkœl\n",
      "MMAYKŒL: mɛkɛl\n",
      "MMAYKŒLL: mɛkɛl\n",
      "MMAYKEUL: mɛkœl\n",
      "MMAYKEULL: mɛkœl\n",
      "MMAYKŒUL: mɛkœl\n",
      "MMAYKŒULL: mɛkœl\n",
      "MMAYCŒL: mɛsel\n",
      "MMAYCŒLL: mɛsɛl\n",
      "MMAYCEUL: mɛsœl\n",
      "MMAYCEULL: mɛsœl\n",
      "MMAYCŒUL: mɛkœl\n",
      "MMAYCŒULL: mɛkœl\n",
      "MMAYQUŒL: mɛkel\n",
      "MMAYQUŒLL: mɛkɛl\n",
      "MMAYQUEUL: mɛkœl\n",
      "MMAYQUEULL: mɛkœl\n",
      "MMAYQUŒUL: mɛkœl\n",
      "MMAYQUŒULL: mɛkœl\n"
     ]
    }
   ],
   "source": [
    "#after adding \"in\" phoneme\n",
    "for e in vars(model(\"michael\",lang=\"fr\")):\n",
    "    print(f\"{e}: {model(e.lower(),lang='fr')}\")"
   ]
  },
  {
   "cell_type": "code",
   "execution_count": 223,
   "metadata": {},
   "outputs": [
    {
     "name": "stdout",
     "output_type": "stream",
     "text": [
      "IE: i\n",
      "IÉ: je\n",
      "IÈ: jɛ\n",
      "IÊ: jɛ\n",
      "IAI: je\n",
      "YE: j\n",
      "YÉ: je\n",
      "YÈ: jɛ\n",
      "YÊ: jɛ\n",
      "YAI: je\n"
     ]
    }
   ],
   "source": [
    "#after adding \"in\" phoneme\n",
    "for e in vars(model(\"hier\",lang=\"fr\")):\n",
    "    print(f\"{e}: {model(e.lower(),lang='fr')}\")"
   ]
  },
  {
   "cell_type": "code",
   "execution_count": null,
   "metadata": {},
   "outputs": [],
   "source": []
  },
  {
   "cell_type": "code",
   "execution_count": 211,
   "metadata": {},
   "outputs": [
    {
     "data": {
      "text/plain": [
       "'damʁo'"
      ]
     },
     "execution_count": 211,
     "metadata": {},
     "output_type": "execute_result"
    }
   ],
   "source": [
    "model(\"damerau\",lang=\"fr\")"
   ]
  },
  {
   "cell_type": "code",
   "execution_count": 205,
   "metadata": {},
   "outputs": [
    {
     "name": "stdout",
     "output_type": "stream",
     "text": [
      "JEAN: dʒin\n",
      "JEAM: dʒim\n",
      "JEEN: dʒin\n",
      "JEEM: dʒim\n",
      "JEAND: dʒɑ̃d\n",
      "JEANT: dʒɑ̃\n",
      "JEANS: dʒinz\n",
      "JAN: ʒɑ̃\n",
      "JAM: ʒam\n",
      "JEN: dʒɛn\n",
      "JEM: ʒɛm\n",
      "JAND: ʒɑ̃d\n",
      "JANT: ʒɑ̃\n",
      "JANS: ʒɑ̃\n",
      "GEAN: ʒin\n",
      "GEAM: ʒim\n",
      "GEEN: ʒiɛn\n",
      "GEEM: dʒim\n",
      "GEAND: ʒɑ̃\n",
      "GEANT: ʒɑ̃\n",
      "GEANS: ʒɑ̃\n"
     ]
    }
   ],
   "source": [
    "#after adding \"in\" phoneme\n",
    "for e in vars(model(\"jean\",lang=\"fr\")):\n",
    "    print(f\"{e}: {model(e.lower(),lang='fr')}\")"
   ]
  },
  {
   "cell_type": "code",
   "execution_count": 137,
   "metadata": {},
   "outputs": [
    {
     "data": {
      "text/plain": [
       "'wa wa wa wa'"
      ]
     },
     "execution_count": 137,
     "metadata": {},
     "output_type": "execute_result"
    }
   ],
   "source": [
    "model(\"oua\",lang=\"fr\")"
   ]
  },
  {
   "cell_type": "code",
   "execution_count": 138,
   "metadata": {},
   "outputs": [
    {
     "data": {
      "text/plain": [
       "'wa'"
      ]
     },
     "execution_count": 138,
     "metadata": {},
     "output_type": "execute_result"
    }
   ],
   "source": [
    "model(\"oie\",lang=\"fr\")"
   ]
  },
  {
   "cell_type": "code",
   "execution_count": 162,
   "metadata": {},
   "outputs": [
    {
     "data": {
      "text/plain": [
       "'pʁwɑ'"
      ]
     },
     "execution_count": 162,
     "metadata": {},
     "output_type": "execute_result"
    }
   ],
   "source": [
    "model(\"proie\",lang=\"fr\")"
   ]
  },
  {
   "cell_type": "code",
   "execution_count": 163,
   "metadata": {},
   "outputs": [
    {
     "data": {
      "text/plain": [
       "'pat'"
      ]
     },
     "execution_count": 163,
     "metadata": {},
     "output_type": "execute_result"
    }
   ],
   "source": [
    "model(\"pâte\",lang=\"fr\")"
   ]
  },
  {
   "cell_type": "code",
   "execution_count": 160,
   "metadata": {},
   "outputs": [
    {
     "data": {
      "text/plain": [
       "'dəʃwaʁ'"
      ]
     },
     "execution_count": 160,
     "metadata": {},
     "output_type": "execute_result"
    }
   ],
   "source": [
    "model(\"dechoire\",lang=\"fr\")"
   ]
  },
  {
   "cell_type": "code",
   "execution_count": null,
   "metadata": {},
   "outputs": [],
   "source": []
  },
  {
   "cell_type": "code",
   "execution_count": null,
   "metadata": {},
   "outputs": [],
   "source": []
  },
  {
   "cell_type": "code",
   "execution_count": 134,
   "metadata": {},
   "outputs": [
    {
     "data": {
      "text/plain": [
       "['OIT', 'OI', 'OIE', 'OUA', 'WA', 'UA']"
      ]
     },
     "execution_count": 134,
     "metadata": {},
     "output_type": "execute_result"
    }
   ],
   "source": [
    "vars(model(\"oua\",lang=\"fr\"))"
   ]
  }
 ],
 "metadata": {
  "kernelspec": {
   "display_name": "dpenv",
   "language": "python",
   "name": "python3"
  },
  "language_info": {
   "codemirror_mode": {
    "name": "ipython",
    "version": 3
   },
   "file_extension": ".py",
   "mimetype": "text/x-python",
   "name": "python",
   "nbconvert_exporter": "python",
   "pygments_lexer": "ipython3",
   "version": "3.11.4"
  },
  "orig_nbformat": 4,
  "vscode": {
   "interpreter": {
    "hash": "9c4e486cda6b57a18dae47c1201ca06e7525a5cbac70b365e2ec2e166aee175d"
   }
  }
 },
 "nbformat": 4,
 "nbformat_minor": 2
}
