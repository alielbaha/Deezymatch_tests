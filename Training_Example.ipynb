{
  "cells": [
    {
      "cell_type": "code",
      "execution_count": 10,
      "metadata": {
        "id": "oZ1L1BlhOUMR"
      },
      "outputs": [
        {
          "name": "stdout",
          "output_type": "stream",
          "text": [
            "('en_us', \"'Murica\", 'mɝəkə')\n",
            "('en_us', 'Aristotelian', 'æɹɪstətiːliən')\n",
            "('en_us', 'Brabant', 'bɹɑːbənt')\n",
            "('en_us', 'Chwezi', 't͡ʃweɪzi')\n",
            "('en_us', 'Dzungaria', 'dzʊŋɡɛəɹiə')\n",
            "('en_us', 'Gerard', 'd͡ʒəɹɑɹd')\n",
            "('en_us', 'IUPAC', 'juːpæk')\n",
            "('en_us', 'Kiritimati', 'kəɹɪsməs')\n",
            "('en_us', 'Malone', 'məloʊn')\n",
            "('en_us', 'Negro', 'niːɡɹoʊ')\n"
          ]
        }
      ],
      "source": [
        "with open('eng_latn_us_broad.txt', 'r', encoding='utf-8') as f:\n",
        "  lines = f.readlines()\n",
        "\n",
        "lines = [l.replace(' ', '').replace('\\n', '') for l in lines]\n",
        "splits = [l.split('\\t') for l in lines]\n",
        "train_data = [('en_us', s[0], s[1]) for s in splits if len(s)==2]\n",
        "\n",
        "for d in train_data[:10000:1000]:\n",
        "  print(d)\n"
      ]
    },
    {
      "cell_type": "code",
      "execution_count": 2,
      "metadata": {
        "id": "MiV-OUi0FQ-O"
      },
      "outputs": [
        {
          "name": "stdout",
          "output_type": "stream",
          "text": [
            "paths {'checkpoint_dir': 'checkpoints', 'data_dir': 'datasets'}\n",
            "preprocessing {'languages': ['de', 'en_us'], 'text_symbols': 'abcdefghijklmnopqrstuvwxyzABCDEFGHIJKLMNOPQRSTUVWXYZäöüÄÖÜß', 'phoneme_symbols': ['a', 'b', 'd', 'e', 'f', 'g', 'h', 'i', 'j', 'k', 'l', 'm', 'n', 'o', 'p', 'r', 's', 't', 'u', 'v', 'w', 'x', 'y', 'z', 'æ', 'ç', 'ð', 'ø', 'ŋ', 'œ', 'ɐ', 'ɑ', 'ɔ', 'ə', 'ɛ', 'ɝ', 'ɹ', 'ɡ', 'ɪ', 'ʁ', 'ʃ', 'ʊ', 'ʌ', 'ʏ', 'ʒ', 'ʔ', 'ˈ', 'ˌ', 'ː', '̃', '̍', '̥', '̩', '̯', '͡', 'θ'], 'char_repeats': 3, 'lowercase': True, 'n_val': 5000}\n",
            "model {'type': 'transformer', 'd_model': 512, 'd_fft': 1024, 'layers': 6, 'dropout': 0.1, 'heads': 4}\n",
            "training {'learning_rate': 0.0001, 'warmup_steps': 100, 'scheduler_plateau_factor': 0.5, 'scheduler_plateau_patience': 10, 'batch_size': 32, 'batch_size_val': 32, 'epochs': 10, 'generate_steps': 500, 'validate_steps': 500, 'checkpoint_steps': 100000, 'n_generate_samples': 10, 'store_phoneme_dict_in_model': True, 'ddp_backend': 'nccl', 'ddp_host': 'localhost', 'ddp_post': '12355'}\n"
          ]
        }
      ],
      "source": [
        "from dp.utils.io import read_config, save_config\n",
        "import dp\n",
        "import os\n",
        "\n",
        "config_file = os.path.dirname(dp.__file__) + '/configs/forward_config.yaml'\n",
        "config = read_config(config_file)\n",
        "config['training']['epochs'] = 10\n",
        "config['training']['warmup_steps'] = 100\n",
        "config['training']['generate_steps'] = 500\n",
        "config['training']['validate_steps'] = 500\n",
        "save_config(config, 'config.yaml')\n",
        "\n",
        "for k, v in config.items():\n",
        "  print(f'{k} {v}')\n",
        "\n"
      ]
    },
    {
      "cell_type": "code",
      "execution_count": 5,
      "metadata": {
        "id": "m_SNVv_HN4fR"
      },
      "outputs": [
        {
          "name": "stdout",
          "output_type": "stream",
          "text": [
            "The tensorboard extension is already loaded. To reload it, use:\n",
            "  %reload_ext tensorboard\n"
          ]
        },
        {
          "data": {
            "text/plain": [
              "ERROR: Failed to launch TensorBoard (exited with 1).\n",
              "Contents of stderr:\n",
              "2025-04-13 20:50:21.073619: I tensorflow/core/util/port.cc:153] oneDNN custom operations are on. You may see slightly different numerical results due to floating-point round-off errors from different computation orders. To turn them off, set the environment variable `TF_ENABLE_ONEDNN_OPTS=0`.\n",
              "2025-04-13 20:50:25.008314: I tensorflow/core/util/port.cc:153] oneDNN custom operations are on. You may see slightly different numerical results due to floating-point round-off errors from different computation orders. To turn them off, set the environment variable `TF_ENABLE_ONEDNN_OPTS=0`.\n",
              "c:\\Users\\asus\\AppData\\Local\\Programs\\Python\\Python39\\lib\\site-packages\\scipy\\__init__.py:177: UserWarning: A NumPy version >=1.18.5 and <1.26.0 is required for this version of SciPy (detected version 2.0.2\n",
              "  warnings.warn(f\"A NumPy version >={np_minversion} and <{np_maxversion}\"\n",
              "\n",
              "A module that was compiled using NumPy 1.x cannot be run in\n",
              "NumPy 2.0.2 as it may crash. To support both 1.x and 2.x\n",
              "versions of NumPy, modules must be compiled with NumPy 2.0.\n",
              "Some module may need to rebuild instead e.g. with 'pybind11>=2.12'.\n",
              "\n",
              "If you are a user of the module, the easiest solution will be to\n",
              "downgrade to 'numpy<2' or try to upgrade the affected module.\n",
              "We expect that some modules will need time to support NumPy 2.\n",
              "\n",
              "Traceback (most recent call last):  File \"c:\\Users\\asus\\AppData\\Local\\Programs\\Python\\Python39\\lib\\runpy.py\", line 197, in _run_module_as_main\n",
              "    return _run_code(code, main_globals, None,\n",
              "  File \"c:\\Users\\asus\\AppData\\Local\\Programs\\Python\\Python39\\lib\\runpy.py\", line 87, in _run_code\n",
              "    exec(code, run_globals)\n",
              "  File \"C:\\Users\\asus\\AppData\\Local\\Programs\\Python\\Python39\\Scripts\\tensorboard.exe\\__main__.py\", line 7, in <module>\n",
              "    sys.exit(run_main())\n",
              "  File \"c:\\Users\\asus\\AppData\\Local\\Programs\\Python\\Python39\\lib\\site-packages\\tensorboard\\main.py\", line 38, in run_main\n",
              "    main_lib.global_init()\n",
              "  File \"c:\\Users\\asus\\AppData\\Local\\Programs\\Python\\Python39\\lib\\site-packages\\tensorboard\\main_lib.py\", line 50, in global_init\n",
              "    if getattr(tf, \"__version__\", \"stub\") == \"stub\":\n",
              "  File \"c:\\Users\\asus\\AppData\\Local\\Programs\\Python\\Python39\\lib\\site-packages\\tensorboard\\lazy.py\", line 65, in __getattr__\n",
              "    return getattr(load_once(self), attr_name)\n",
              "  File \"c:\\Users\\asus\\AppData\\Local\\Programs\\Python\\Python39\\lib\\site-packages\\tensorboard\\lazy.py\", line 97, in wrapper\n",
              "    cache[arg] = f(arg)\n",
              "  File \"c:\\Users\\asus\\AppData\\Local\\Programs\\Python\\Python39\\lib\\site-packages\\tensorboard\\lazy.py\", line 50, in load_once\n",
              "    module = load_fn()\n",
              "  File \"c:\\Users\\asus\\AppData\\Local\\Programs\\Python\\Python39\\lib\\site-packages\\tensorboard\\compat\\__init__.py\", line 45, in tf\n",
              "    import tensorflow\n",
              "  File \"c:\\Users\\asus\\AppData\\Local\\Programs\\Python\\Python39\\lib\\site-packages\\tensorflow\\__init__.py\", line 49, in <module>\n",
              "    from tensorflow._api.v2 import __internal__\n",
              "  File \"c:\\Users\\asus\\AppData\\Local\\Programs\\Python\\Python39\\lib\\site-packages\\tensorflow\\_api\\v2\\__internal__\\__init__.py\", line 13, in <module>\n",
              "    from tensorflow._api.v2.__internal__ import feature_column\n",
              "  File \"c:\\Users\\asus\\AppData\\Local\\Programs\\Python\\Python39\\lib\\site-packages\\tensorflow\\_api\\v2\\__internal__\\feature_column\\__init__.py\", line 8, in <module>\n",
              "    from tensorflow.python.feature_column.feature_column_v2 import DenseColumn # line: 1777\n",
              "  File \"c:\\Users\\asus\\AppData\\Local\\Programs\\Python\\Python39\\lib\\site-packages\\tensorflow\\python\\feature_column\\feature_column_v2.py\", line 38, in <module>\n",
              "    from tensorflow.python.feature_column import feature_column as fc_old\n",
              "  File \"c:\\Users\\asus\\AppData\\Local\\Programs\\Python\\Python39\\lib\\site-packages\\tensorflow\\python\\feature_column\\feature_column.py\", line 41, in <module>\n",
              "    from tensorflow.python.layers import base\n",
              "  File \"c:\\Users\\asus\\AppData\\Local\\Programs\\Python\\Python39\\lib\\site-packages\\tensorflow\\python\\layers\\base.py\", line 16, in <module>\n",
              "    from tensorflow.python.keras.legacy_tf_layers import base\n",
              "  File \"c:\\Users\\asus\\AppData\\Local\\Programs\\Python\\Python39\\lib\\site-packages\\tensorflow\\python\\keras\\__init__.py\", line 25, in <module>\n",
              "    from tensorflow.python.keras import models\n",
              "  File \"c:\\Users\\asus\\AppData\\Local\\Programs\\Python\\Python39\\lib\\site-packages\\tensorflow\\python\\keras\\models.py\", line 25, in <module>\n",
              "    from tensorflow.python.keras.engine import training_v1\n",
              "  File \"c:\\Users\\asus\\AppData\\Local\\Programs\\Python\\Python39\\lib\\site-packages\\tensorflow\\python\\keras\\engine\\training_v1.py\", line 46, in <module>\n",
              "    from tensorflow.python.keras.engine import training_arrays_v1\n",
              "  File \"c:\\Users\\asus\\AppData\\Local\\Programs\\Python\\Python39\\lib\\site-packages\\tensorflow\\python\\keras\\engine\\training_arrays_v1.py\", line 37, in <module>\n",
              "    from scipy.sparse import issparse  # pylint: disable=g-import-not-at-top\n",
              "  File \"c:\\Users\\asus\\AppData\\Local\\Programs\\Python\\Python39\\lib\\site-packages\\scipy\\sparse\\__init__.py\", line 267, in <module>\n",
              "    from ._csr import *\n",
              "  File \"c:\\Users\\asus\\AppData\\Local\\Programs\\Python\\Python39\\lib\\site-packages\\scipy\\sparse\\_csr.py\", line 10, in <module>\n",
              "    from ._sparsetools import (csr_tocsc, csr_tobsr, csr_count_blocks,\n",
              "Traceback (most recent call last):\n",
              "  File \"c:\\Users\\asus\\AppData\\Local\\Programs\\Python\\Python39\\lib\\site-packages\\tensorboard\\compat\\__init__.py\", line 42, in tf\n",
              "    from tensorboard.compat import notf  # noqa: F401\n",
              "ImportError: cannot import name 'notf' from 'tensorboard.compat' (c:\\Users\\asus\\AppData\\Local\\Programs\\Python\\Python39\\lib\\site-packages\\tensorboard\\compat\\__init__.py)\n",
              "\n",
              "During handling of the above exception, another exception occurred:\n",
              "\n",
              "AttributeError: _ARRAY_API not found\n",
              "\n",
              "A module that was compiled using NumPy 1.x cannot be run in\n",
              "NumPy 2.0.2 as it may crash. To support both 1.x and 2.x\n",
              "versions of NumPy, modules must be compiled with NumPy 2.0.\n",
              "Some module may need to rebuild instead e.g. with 'pybind11>=2.12'.\n",
              "\n",
              "If you are a user of the module, the easiest solution will be to\n",
              "downgrade to 'numpy<2' or try to upgrade the affected module.\n",
              "We expect that some modules will need time to support NumPy 2.\n",
              "\n",
              "Traceback (most recent call last):  File \"c:\\Users\\asus\\AppData\\Local\\Programs\\Python\\Python39\\lib\\runpy.py\", line 197, in _run_module_as_main\n",
              "    return _run_code(code, main_globals, None,\n",
              "  File \"c:\\Users\\asus\\AppData\\Local\\Programs\\Python\\Python39\\lib\\runpy.py\", line 87, in _run_code\n",
              "    exec(code, run_globals)\n",
              "  File \"C:\\Users\\asus\\AppData\\Local\\Programs\\Python\\Python39\\Scripts\\tensorboard.exe\\__main__.py\", line 7, in <module>\n",
              "    sys.exit(run_main())\n",
              "  File \"c:\\Users\\asus\\AppData\\Local\\Programs\\Python\\Python39\\lib\\site-packages\\tensorboard\\main.py\", line 38, in run_main\n",
              "    main_lib.global_init()\n",
              "  File \"c:\\Users\\asus\\AppData\\Local\\Programs\\Python\\Python39\\lib\\site-packages\\tensorboard\\main_lib.py\", line 50, in global_init\n",
              "    if getattr(tf, \"__version__\", \"stub\") == \"stub\":\n",
              "  File \"c:\\Users\\asus\\AppData\\Local\\Programs\\Python\\Python39\\lib\\site-packages\\tensorboard\\lazy.py\", line 65, in __getattr__\n",
              "    return getattr(load_once(self), attr_name)\n",
              "  File \"c:\\Users\\asus\\AppData\\Local\\Programs\\Python\\Python39\\lib\\site-packages\\tensorboard\\lazy.py\", line 97, in wrapper\n",
              "    cache[arg] = f(arg)\n",
              "  File \"c:\\Users\\asus\\AppData\\Local\\Programs\\Python\\Python39\\lib\\site-packages\\tensorboard\\lazy.py\", line 50, in load_once\n",
              "    module = load_fn()\n",
              "  File \"c:\\Users\\asus\\AppData\\Local\\Programs\\Python\\Python39\\lib\\site-packages\\tensorboard\\compat\\__init__.py\", line 45, in tf\n",
              "    import tensorflow\n",
              "  File \"c:\\Users\\asus\\AppData\\Local\\Programs\\Python\\Python39\\lib\\site-packages\\tensorflow\\__init__.py\", line 49, in <module>\n",
              "    from tensorflow._api.v2 import __internal__\n",
              "  File \"c:\\Users\\asus\\AppData\\Local\\Programs\\Python\\Python39\\lib\\site-packages\\tensorflow\\_api\\v2\\__internal__\\__init__.py\", line 13, in <module>\n",
              "    from tensorflow._api.v2.__internal__ import feature_column\n",
              "  File \"c:\\Users\\asus\\AppData\\Local\\Programs\\Python\\Python39\\lib\\site-packages\\tensorflow\\_api\\v2\\__internal__\\feature_column\\__init__.py\", line 8, in <module>\n",
              "    from tensorflow.python.feature_column.feature_column_v2 import DenseColumn # line: 1777\n",
              "  File \"c:\\Users\\asus\\AppData\\Local\\Programs\\Python\\Python39\\lib\\site-packages\\tensorflow\\python\\feature_column\\feature_column_v2.py\", line 38, in <module>\n",
              "    from tensorflow.python.feature_column import feature_column as fc_old\n",
              "  File \"c:\\Users\\asus\\AppData\\Local\\Programs\\Python\\Python39\\lib\\site-packages\\tensorflow\\python\\feature_column\\feature_column.py\", line 41, in <module>\n",
              "    from tensorflow.python.layers import base\n",
              "  File \"c:\\Users\\asus\\AppData\\Local\\Programs\\Python\\Python39\\lib\\site-packages\\tensorflow\\python\\layers\\base.py\", line 16, in <module>\n",
              "    from tensorflow.python.keras.legacy_tf_layers import base\n",
              "  File \"c:\\Users\\asus\\AppData\\Local\\Programs\\Python\\Python39\\lib\\site-packages\\tensorflow\\python\\keras\\__init__.py\", line 25, in <module>\n",
              "    from tensorflow.python.keras import models\n",
              "  File \"c:\\Users\\asus\\AppData\\Local\\Programs\\Python\\Python39\\lib\\site-packages\\tensorflow\\python\\keras\\models.py\", line 25, in <module>\n",
              "    from tensorflow.python.keras.engine import training_v1\n",
              "  File \"c:\\Users\\asus\\AppData\\Local\\Programs\\Python\\Python39\\lib\\site-packages\\tensorflow\\python\\keras\\engine\\training_v1.py\", line 71, in <module>\n",
              "    from scipy.sparse import issparse  # pylint: disable=g-import-not-at-top\n",
              "  File \"c:\\Users\\asus\\AppData\\Local\\Programs\\Python\\Python39\\lib\\site-packages\\scipy\\sparse\\__init__.py\", line 267, in <module>\n",
              "    from ._csr import *\n",
              "  File \"c:\\Users\\asus\\AppData\\Local\\Programs\\Python\\Python39\\lib\\site-packages\\scipy\\sparse\\_csr.py\", line 10, in <module>\n",
              "    from ._sparsetools import (csr_tocsc, csr_tobsr, csr_count_blocks,\n",
              "Traceback (most recent call last):\n",
              "  File \"c:\\Users\\asus\\AppData\\Local\\Programs\\Python\\Python39\\lib\\site-packages\\tensorboard\\compat\\__init__.py\", line 42, in tf\n",
              "    from tensorboard.compat import notf  # noqa: F401\n",
              "ImportError: cannot import name 'notf' from 'tensorboard.compat' (c:\\Users\\asus\\AppData\\Local\\Programs\\Python\\Python39\\lib\\site-packages\\tensorboard\\compat\\__init__.py)\n",
              "\n",
              "During handling of the above exception, another exception occurred:\n",
              "\n",
              "AttributeError: _ARRAY_API not found\n",
              "Traceback (most recent call last):\n",
              "  File \"c:\\Users\\asus\\AppData\\Local\\Programs\\Python\\Python39\\lib\\site-packages\\tensorboard\\compat\\__init__.py\", line 42, in tf\n",
              "    from tensorboard.compat import notf  # noqa: F401\n",
              "ImportError: cannot import name 'notf' from 'tensorboard.compat' (c:\\Users\\asus\\AppData\\Local\\Programs\\Python\\Python39\\lib\\site-packages\\tensorboard\\compat\\__init__.py)\n",
              "\n",
              "During handling of the above exception, another exception occurred:\n",
              "\n",
              "Traceback (most recent call last):\n",
              "  File \"c:\\Users\\asus\\AppData\\Local\\Programs\\Python\\Python39\\lib\\runpy.py\", line 197, in _run_module_as_main\n",
              "    return _run_code(code, main_globals, None,\n",
              "  File \"c:\\Users\\asus\\AppData\\Local\\Programs\\Python\\Python39\\lib\\runpy.py\", line 87, in _run_code\n",
              "    exec(code, run_globals)\n",
              "  File \"C:\\Users\\asus\\AppData\\Local\\Programs\\Python\\Python39\\Scripts\\tensorboard.exe\\__main__.py\", line 7, in <module>\n",
              "  File \"c:\\Users\\asus\\AppData\\Local\\Programs\\Python\\Python39\\lib\\site-packages\\tensorboard\\main.py\", line 38, in run_main\n",
              "    main_lib.global_init()\n",
              "  File \"c:\\Users\\asus\\AppData\\Local\\Programs\\Python\\Python39\\lib\\site-packages\\tensorboard\\main_lib.py\", line 50, in global_init\n",
              "    if getattr(tf, \"__version__\", \"stub\") == \"stub\":\n",
              "  File \"c:\\Users\\asus\\AppData\\Local\\Programs\\Python\\Python39\\lib\\site-packages\\tensorboard\\lazy.py\", line 65, in __getattr__\n",
              "    return getattr(load_once(self), attr_name)\n",
              "  File \"c:\\Users\\asus\\AppData\\Local\\Programs\\Python\\Python39\\lib\\site-packages\\tensorboard\\lazy.py\", line 97, in wrapper\n",
              "    cache[arg] = f(arg)\n",
              "  File \"c:\\Users\\asus\\AppData\\Local\\Programs\\Python\\Python39\\lib\\site-packages\\tensorboard\\lazy.py\", line 50, in load_once\n",
              "    module = load_fn()\n",
              "  File \"c:\\Users\\asus\\AppData\\Local\\Programs\\Python\\Python39\\lib\\site-packages\\tensorboard\\compat\\__init__.py\", line 45, in tf\n",
              "    import tensorflow\n",
              "  File \"c:\\Users\\asus\\AppData\\Local\\Programs\\Python\\Python39\\lib\\site-packages\\tensorflow\\__init__.py\", line 467, in <module>\n",
              "    importlib.import_module(\"keras.src.optimizers\")\n",
              "  File \"c:\\Users\\asus\\AppData\\Local\\Programs\\Python\\Python39\\lib\\importlib\\__init__.py\", line 127, in import_module\n",
              "    return _bootstrap._gcd_import(name[level:], package, level)\n",
              "  File \"c:\\Users\\asus\\AppData\\Local\\Programs\\Python\\Python39\\lib\\site-packages\\keras\\__init__.py\", line 2, in <module>\n",
              "    from keras.api import DTypePolicy\n",
              "  File \"c:\\Users\\asus\\AppData\\Local\\Programs\\Python\\Python39\\lib\\site-packages\\keras\\api\\__init__.py\", line 8, in <module>\n",
              "    from keras.api import activations\n",
              "  File \"c:\\Users\\asus\\AppData\\Local\\Programs\\Python\\Python39\\lib\\site-packages\\keras\\api\\activations\\__init__.py\", line 7, in <module>\n",
              "    from keras.src.activations import deserialize\n",
              "  File \"c:\\Users\\asus\\AppData\\Local\\Programs\\Python\\Python39\\lib\\site-packages\\keras\\src\\__init__.py\", line 1, in <module>\n",
              "    from keras.src import activations\n",
              "  File \"c:\\Users\\asus\\AppData\\Local\\Programs\\Python\\Python39\\lib\\site-packages\\keras\\src\\activations\\__init__.py\", line 33, in <module>\n",
              "    from keras.src.saving import object_registration\n",
              "  File \"c:\\Users\\asus\\AppData\\Local\\Programs\\Python\\Python39\\lib\\site-packages\\keras\\src\\saving\\__init__.py\", line 7, in <module>\n",
              "    from keras.src.saving.saving_api import load_model\n",
              "  File \"c:\\Users\\asus\\AppData\\Local\\Programs\\Python\\Python39\\lib\\site-packages\\keras\\src\\saving\\saving_api.py\", line 7, in <module>\n",
              "    from keras.src.legacy.saving import legacy_h5_format\n",
              "  File \"c:\\Users\\asus\\AppData\\Local\\Programs\\Python\\Python39\\lib\\site-packages\\keras\\src\\legacy\\saving\\legacy_h5_format.py\", line 13, in <module>\n",
              "    from keras.src.legacy.saving import saving_utils\n",
              "  File \"c:\\Users\\asus\\AppData\\Local\\Programs\\Python\\Python39\\lib\\site-packages\\keras\\src\\legacy\\saving\\saving_utils.py\", line 10, in <module>\n",
              "    from keras.src import models\n",
              "  File \"c:\\Users\\asus\\AppData\\Local\\Programs\\Python\\Python39\\lib\\site-packages\\keras\\src\\models\\__init__.py\", line 1, in <module>\n",
              "    from keras.src.models.functional import Functional\n",
              "  File \"c:\\Users\\asus\\AppData\\Local\\Programs\\Python\\Python39\\lib\\site-packages\\keras\\src\\models\\functional.py\", line 16, in <module>\n",
              "    from keras.src.models.model import Model\n",
              "  File \"c:\\Users\\asus\\AppData\\Local\\Programs\\Python\\Python39\\lib\\site-packages\\keras\\src\\models\\model.py\", line 12, in <module>\n",
              "    from keras.src.trainers import trainer as base_trainer\n",
              "  File \"c:\\Users\\asus\\AppData\\Local\\Programs\\Python\\Python39\\lib\\site-packages\\keras\\src\\trainers\\trainer.py\", line 14, in <module>\n",
              "    from keras.src.trainers.data_adapters import data_adapter_utils\n",
              "  File \"c:\\Users\\asus\\AppData\\Local\\Programs\\Python\\Python39\\lib\\site-packages\\keras\\src\\trainers\\data_adapters\\__init__.py\", line 4, in <module>\n",
              "    from keras.src.trainers.data_adapters import array_data_adapter\n",
              "  File \"c:\\Users\\asus\\AppData\\Local\\Programs\\Python\\Python39\\lib\\site-packages\\keras\\src\\trainers\\data_adapters\\array_data_adapter.py\", line 7, in <module>\n",
              "    from keras.src.trainers.data_adapters import array_slicing\n",
              "  File \"c:\\Users\\asus\\AppData\\Local\\Programs\\Python\\Python39\\lib\\site-packages\\keras\\src\\trainers\\data_adapters\\array_slicing.py\", line 12, in <module>\n",
              "    import pandas\n",
              "  File \"c:\\Users\\asus\\AppData\\Local\\Programs\\Python\\Python39\\lib\\site-packages\\pandas\\__init__.py\", line 22, in <module>\n",
              "    from pandas.compat import is_numpy_dev as _is_numpy_dev  # pyright: ignore # noqa:F401\n",
              "  File \"c:\\Users\\asus\\AppData\\Local\\Programs\\Python\\Python39\\lib\\site-packages\\pandas\\compat\\__init__.py\", line 18, in <module>\n",
              "    from pandas.compat.numpy import (\n",
              "  File \"c:\\Users\\asus\\AppData\\Local\\Programs\\Python\\Python39\\lib\\site-packages\\pandas\\compat\\numpy\\__init__.py\", line 4, in <module>\n",
              "    from pandas.util.version import Version\n",
              "  File \"c:\\Users\\asus\\AppData\\Local\\Programs\\Python\\Python39\\lib\\site-packages\\pandas\\util\\__init__.py\", line 2, in <module>\n",
              "    from pandas.util._decorators import (  # noqa:F401\n",
              "  File \"c:\\Users\\asus\\AppData\\Local\\Programs\\Python\\Python39\\lib\\site-packages\\pandas\\util\\_decorators.py\", line 14, in <module>\n",
              "    from pandas._libs.properties import cache_readonly\n",
              "  File \"c:\\Users\\asus\\AppData\\Local\\Programs\\Python\\Python39\\lib\\site-packages\\pandas\\_libs\\__init__.py\", line 13, in <module>\n",
              "    from pandas._libs.interval import Interval\n",
              "  File \"pandas\\_libs\\interval.pyx\", line 1, in init pandas._libs.interval\n",
              "ValueError: numpy.dtype size changed, may indicate binary incompatibility. Expected 96 from C header, got 88 from PyObject"
            ]
          },
          "metadata": {},
          "output_type": "display_data"
        }
      ],
      "source": [
        "%load_ext tensorboard\n",
        "%tensorboard --logdir /content/checkpoints"
      ]
    },
    {
      "cell_type": "code",
      "execution_count": 7,
      "metadata": {},
      "outputs": [
        {
          "data": {
            "text/plain": [
              "59"
            ]
          },
          "execution_count": 7,
          "metadata": {},
          "output_type": "execute_result"
        }
      ],
      "source": []
    },
    {
      "cell_type": "code",
      "execution_count": 9,
      "metadata": {
        "id": "K09wG-ymXECZ"
      },
      "outputs": [
        {
          "name": "stderr",
          "output_type": "stream",
          "text": [
            "100%|██████████| 60554/60554 [00:02<00:00, 23163.72it/s]\n",
            "Rank: 0 | Epoch: 1 | Step 500 | Loss: 1.623:  26%|██▋       | 499/1892 [10:38<22:35,  1.03it/s]  c:\\Users\\asus\\Desktop\\DeepPhonemizer\\dp\\training\\evaluation.py:38: RuntimeWarning: overflow encountered in scalar add\n",
            "  phon_err = sum(lang_phon_err[lang].values())\n",
            "Rank: 0 | Epoch: 1 | Step 1892 | Loss: 0.9932: 100%|██████████| 1892/1892 [36:13<00:00,  1.15s/it] \n",
            "Rank: 0 | Epoch: 2 | Step 3784 | Loss: 0.5671: 100%|██████████| 1892/1892 [33:50<00:00,  1.07s/it]  \n",
            "Rank: 0 | Epoch: 3 | Step 4261 | Loss: 0.5092:  25%|██▌       | 476/1892 [08:22<24:55,  1.06s/it]   \n"
          ]
        },
        {
          "ename": "KeyboardInterrupt",
          "evalue": "",
          "output_type": "error",
          "traceback": [
            "\u001b[1;31m---------------------------------------------------------------------------\u001b[0m",
            "\u001b[1;31mKeyboardInterrupt\u001b[0m                         Traceback (most recent call last)",
            "Cell \u001b[1;32mIn[9], line 5\u001b[0m\n\u001b[0;32m      2\u001b[0m \u001b[39mfrom\u001b[39;00m \u001b[39mdp\u001b[39;00m\u001b[39m.\u001b[39;00m\u001b[39mtrain\u001b[39;00m \u001b[39mimport\u001b[39;00m train\n\u001b[0;32m      4\u001b[0m preprocess(config_file\u001b[39m=\u001b[39m\u001b[39m'\u001b[39m\u001b[39mconfig.yaml\u001b[39m\u001b[39m'\u001b[39m, train_data\u001b[39m=\u001b[39mtrain_data)\n\u001b[1;32m----> 5\u001b[0m train(config_file\u001b[39m=\u001b[39;49m\u001b[39m'\u001b[39;49m\u001b[39mconfig.yaml\u001b[39;49m\u001b[39m'\u001b[39;49m,rank\u001b[39m=\u001b[39;49m\u001b[39m0\u001b[39;49m,num_gpus\u001b[39m=\u001b[39;49m\u001b[39m0\u001b[39;49m)\n",
            "File \u001b[1;32mc:\\Users\\asus\\Desktop\\DeepPhonemizer\\dp\\train.py:79\u001b[0m, in \u001b[0;36mtrain\u001b[1;34m(rank, num_gpus, config_file, checkpoint_file)\u001b[0m\n\u001b[0;32m     76\u001b[0m use_ddp \u001b[39m=\u001b[39m \u001b[39mTrue\u001b[39;00m \u001b[39mif\u001b[39;00m num_gpus \u001b[39m>\u001b[39m \u001b[39m1\u001b[39m \u001b[39melse\u001b[39;00m \u001b[39mFalse\u001b[39;00m\n\u001b[0;32m     78\u001b[0m trainer \u001b[39m=\u001b[39m Trainer(checkpoint_dir\u001b[39m=\u001b[39mcheckpoint_dir, device\u001b[39m=\u001b[39mdevice, rank\u001b[39m=\u001b[39mrank, use_ddp\u001b[39m=\u001b[39muse_ddp, loss_type\u001b[39m=\u001b[39mloss_type)\n\u001b[1;32m---> 79\u001b[0m trainer\u001b[39m.\u001b[39;49mtrain(model\u001b[39m=\u001b[39;49mmodel,\n\u001b[0;32m     80\u001b[0m               checkpoint\u001b[39m=\u001b[39;49mcheckpoint,\n\u001b[0;32m     81\u001b[0m               store_phoneme_dict_in_model\u001b[39m=\u001b[39;49mconfig[\u001b[39m'\u001b[39;49m\u001b[39mtraining\u001b[39;49m\u001b[39m'\u001b[39;49m][\u001b[39m'\u001b[39;49m\u001b[39mstore_phoneme_dict_in_model\u001b[39;49m\u001b[39m'\u001b[39;49m])\n",
            "File \u001b[1;32mc:\\Users\\asus\\Desktop\\DeepPhonemizer\\dp\\training\\trainer.py:126\u001b[0m, in \u001b[0;36mTrainer.train\u001b[1;34m(self, model, checkpoint, store_phoneme_dict_in_model)\u001b[0m\n\u001b[0;32m    122\u001b[0m avg_loss \u001b[39m=\u001b[39m \u001b[39msum\u001b[39m(losses) \u001b[39m/\u001b[39m \u001b[39mlen\u001b[39m(losses) \u001b[39mif\u001b[39;00m \u001b[39mlen\u001b[39m(losses) \u001b[39m>\u001b[39m \u001b[39m0\u001b[39m \u001b[39melse\u001b[39;00m math\u001b[39m.\u001b[39minf\n\u001b[0;32m    123\u001b[0m pbar\u001b[39m.\u001b[39mset_description(desc\u001b[39m=\u001b[39m\u001b[39mf\u001b[39m\u001b[39m'\u001b[39m\u001b[39mRank: \u001b[39m\u001b[39m{\u001b[39;00m\u001b[39mself\u001b[39m\u001b[39m.\u001b[39mrank\u001b[39m}\u001b[39;00m\u001b[39m | Epoch: \u001b[39m\u001b[39m{\u001b[39;00mepoch\u001b[39m}\u001b[39;00m\u001b[39m | Step \u001b[39m\u001b[39m{\u001b[39;00mstep\u001b[39m}\u001b[39;00m\u001b[39m \u001b[39m\u001b[39m'\u001b[39m\n\u001b[0;32m    124\u001b[0m                           \u001b[39mf\u001b[39m\u001b[39m'\u001b[39m\u001b[39m| Loss: \u001b[39m\u001b[39m{\u001b[39;00mavg_loss\u001b[39m:\u001b[39;00m\u001b[39m#.4\u001b[39m\u001b[39m}\u001b[39;00m\u001b[39m'\u001b[39m, refresh\u001b[39m=\u001b[39m\u001b[39mTrue\u001b[39;00m)\n\u001b[1;32m--> 126\u001b[0m pred \u001b[39m=\u001b[39m model(batch)\n\u001b[0;32m    127\u001b[0m loss \u001b[39m=\u001b[39m criterion(pred, batch)\n\u001b[0;32m    129\u001b[0m \u001b[39mif\u001b[39;00m \u001b[39mnot\u001b[39;00m (torch\u001b[39m.\u001b[39misnan(loss) \u001b[39mor\u001b[39;00m torch\u001b[39m.\u001b[39misinf(loss)):\n",
            "File \u001b[1;32mc:\\Users\\asus\\AppData\\Local\\Programs\\Python\\Python39\\lib\\site-packages\\torch\\nn\\modules\\module.py:1739\u001b[0m, in \u001b[0;36mModule._wrapped_call_impl\u001b[1;34m(self, *args, **kwargs)\u001b[0m\n\u001b[0;32m   1737\u001b[0m     \u001b[39mreturn\u001b[39;00m \u001b[39mself\u001b[39m\u001b[39m.\u001b[39m_compiled_call_impl(\u001b[39m*\u001b[39margs, \u001b[39m*\u001b[39m\u001b[39m*\u001b[39mkwargs)  \u001b[39m# type: ignore[misc]\u001b[39;00m\n\u001b[0;32m   1738\u001b[0m \u001b[39melse\u001b[39;00m:\n\u001b[1;32m-> 1739\u001b[0m     \u001b[39mreturn\u001b[39;00m \u001b[39mself\u001b[39m\u001b[39m.\u001b[39m_call_impl(\u001b[39m*\u001b[39margs, \u001b[39m*\u001b[39m\u001b[39m*\u001b[39mkwargs)\n",
            "File \u001b[1;32mc:\\Users\\asus\\AppData\\Local\\Programs\\Python\\Python39\\lib\\site-packages\\torch\\nn\\modules\\module.py:1750\u001b[0m, in \u001b[0;36mModule._call_impl\u001b[1;34m(self, *args, **kwargs)\u001b[0m\n\u001b[0;32m   1745\u001b[0m \u001b[39m# If we don't have any hooks, we want to skip the rest of the logic in\u001b[39;00m\n\u001b[0;32m   1746\u001b[0m \u001b[39m# this function, and just call forward.\u001b[39;00m\n\u001b[0;32m   1747\u001b[0m \u001b[39mif\u001b[39;00m \u001b[39mnot\u001b[39;00m (\u001b[39mself\u001b[39m\u001b[39m.\u001b[39m_backward_hooks \u001b[39mor\u001b[39;00m \u001b[39mself\u001b[39m\u001b[39m.\u001b[39m_backward_pre_hooks \u001b[39mor\u001b[39;00m \u001b[39mself\u001b[39m\u001b[39m.\u001b[39m_forward_hooks \u001b[39mor\u001b[39;00m \u001b[39mself\u001b[39m\u001b[39m.\u001b[39m_forward_pre_hooks\n\u001b[0;32m   1748\u001b[0m         \u001b[39mor\u001b[39;00m _global_backward_pre_hooks \u001b[39mor\u001b[39;00m _global_backward_hooks\n\u001b[0;32m   1749\u001b[0m         \u001b[39mor\u001b[39;00m _global_forward_hooks \u001b[39mor\u001b[39;00m _global_forward_pre_hooks):\n\u001b[1;32m-> 1750\u001b[0m     \u001b[39mreturn\u001b[39;00m forward_call(\u001b[39m*\u001b[39margs, \u001b[39m*\u001b[39m\u001b[39m*\u001b[39mkwargs)\n\u001b[0;32m   1752\u001b[0m result \u001b[39m=\u001b[39m \u001b[39mNone\u001b[39;00m\n\u001b[0;32m   1753\u001b[0m called_always_called_hooks \u001b[39m=\u001b[39m \u001b[39mset\u001b[39m()\n",
            "File \u001b[1;32mc:\\Users\\asus\\Desktop\\DeepPhonemizer\\dp\\model\\model.py:92\u001b[0m, in \u001b[0;36mForwardTransformer.forward\u001b[1;34m(self, batch)\u001b[0m\n\u001b[0;32m     90\u001b[0m x \u001b[39m=\u001b[39m \u001b[39mself\u001b[39m\u001b[39m.\u001b[39membedding(x)\n\u001b[0;32m     91\u001b[0m x \u001b[39m=\u001b[39m \u001b[39mself\u001b[39m\u001b[39m.\u001b[39mpos_encoder(x)\n\u001b[1;32m---> 92\u001b[0m x \u001b[39m=\u001b[39m \u001b[39mself\u001b[39;49m\u001b[39m.\u001b[39;49mencoder(x, src_key_padding_mask\u001b[39m=\u001b[39;49msrc_pad_mask)\n\u001b[0;32m     93\u001b[0m x \u001b[39m=\u001b[39m \u001b[39mself\u001b[39m\u001b[39m.\u001b[39mfc_out(x)\n\u001b[0;32m     94\u001b[0m x \u001b[39m=\u001b[39m x\u001b[39m.\u001b[39mtranspose(\u001b[39m0\u001b[39m, \u001b[39m1\u001b[39m)\n",
            "File \u001b[1;32mc:\\Users\\asus\\AppData\\Local\\Programs\\Python\\Python39\\lib\\site-packages\\torch\\nn\\modules\\module.py:1739\u001b[0m, in \u001b[0;36mModule._wrapped_call_impl\u001b[1;34m(self, *args, **kwargs)\u001b[0m\n\u001b[0;32m   1737\u001b[0m     \u001b[39mreturn\u001b[39;00m \u001b[39mself\u001b[39m\u001b[39m.\u001b[39m_compiled_call_impl(\u001b[39m*\u001b[39margs, \u001b[39m*\u001b[39m\u001b[39m*\u001b[39mkwargs)  \u001b[39m# type: ignore[misc]\u001b[39;00m\n\u001b[0;32m   1738\u001b[0m \u001b[39melse\u001b[39;00m:\n\u001b[1;32m-> 1739\u001b[0m     \u001b[39mreturn\u001b[39;00m \u001b[39mself\u001b[39m\u001b[39m.\u001b[39m_call_impl(\u001b[39m*\u001b[39margs, \u001b[39m*\u001b[39m\u001b[39m*\u001b[39mkwargs)\n",
            "File \u001b[1;32mc:\\Users\\asus\\AppData\\Local\\Programs\\Python\\Python39\\lib\\site-packages\\torch\\nn\\modules\\module.py:1750\u001b[0m, in \u001b[0;36mModule._call_impl\u001b[1;34m(self, *args, **kwargs)\u001b[0m\n\u001b[0;32m   1745\u001b[0m \u001b[39m# If we don't have any hooks, we want to skip the rest of the logic in\u001b[39;00m\n\u001b[0;32m   1746\u001b[0m \u001b[39m# this function, and just call forward.\u001b[39;00m\n\u001b[0;32m   1747\u001b[0m \u001b[39mif\u001b[39;00m \u001b[39mnot\u001b[39;00m (\u001b[39mself\u001b[39m\u001b[39m.\u001b[39m_backward_hooks \u001b[39mor\u001b[39;00m \u001b[39mself\u001b[39m\u001b[39m.\u001b[39m_backward_pre_hooks \u001b[39mor\u001b[39;00m \u001b[39mself\u001b[39m\u001b[39m.\u001b[39m_forward_hooks \u001b[39mor\u001b[39;00m \u001b[39mself\u001b[39m\u001b[39m.\u001b[39m_forward_pre_hooks\n\u001b[0;32m   1748\u001b[0m         \u001b[39mor\u001b[39;00m _global_backward_pre_hooks \u001b[39mor\u001b[39;00m _global_backward_hooks\n\u001b[0;32m   1749\u001b[0m         \u001b[39mor\u001b[39;00m _global_forward_hooks \u001b[39mor\u001b[39;00m _global_forward_pre_hooks):\n\u001b[1;32m-> 1750\u001b[0m     \u001b[39mreturn\u001b[39;00m forward_call(\u001b[39m*\u001b[39margs, \u001b[39m*\u001b[39m\u001b[39m*\u001b[39mkwargs)\n\u001b[0;32m   1752\u001b[0m result \u001b[39m=\u001b[39m \u001b[39mNone\u001b[39;00m\n\u001b[0;32m   1753\u001b[0m called_always_called_hooks \u001b[39m=\u001b[39m \u001b[39mset\u001b[39m()\n",
            "File \u001b[1;32mc:\\Users\\asus\\AppData\\Local\\Programs\\Python\\Python39\\lib\\site-packages\\torch\\nn\\modules\\transformer.py:517\u001b[0m, in \u001b[0;36mTransformerEncoder.forward\u001b[1;34m(self, src, mask, src_key_padding_mask, is_causal)\u001b[0m\n\u001b[0;32m    514\u001b[0m is_causal \u001b[39m=\u001b[39m _detect_is_causal_mask(mask, is_causal, seq_len)\n\u001b[0;32m    516\u001b[0m \u001b[39mfor\u001b[39;00m mod \u001b[39min\u001b[39;00m \u001b[39mself\u001b[39m\u001b[39m.\u001b[39mlayers:\n\u001b[1;32m--> 517\u001b[0m     output \u001b[39m=\u001b[39m mod(\n\u001b[0;32m    518\u001b[0m         output,\n\u001b[0;32m    519\u001b[0m         src_mask\u001b[39m=\u001b[39;49mmask,\n\u001b[0;32m    520\u001b[0m         is_causal\u001b[39m=\u001b[39;49mis_causal,\n\u001b[0;32m    521\u001b[0m         src_key_padding_mask\u001b[39m=\u001b[39;49msrc_key_padding_mask_for_layers,\n\u001b[0;32m    522\u001b[0m     )\n\u001b[0;32m    524\u001b[0m \u001b[39mif\u001b[39;00m convert_to_nested:\n\u001b[0;32m    525\u001b[0m     output \u001b[39m=\u001b[39m output\u001b[39m.\u001b[39mto_padded_tensor(\u001b[39m0.0\u001b[39m, src\u001b[39m.\u001b[39msize())\n",
            "File \u001b[1;32mc:\\Users\\asus\\AppData\\Local\\Programs\\Python\\Python39\\lib\\site-packages\\torch\\nn\\modules\\module.py:1739\u001b[0m, in \u001b[0;36mModule._wrapped_call_impl\u001b[1;34m(self, *args, **kwargs)\u001b[0m\n\u001b[0;32m   1737\u001b[0m     \u001b[39mreturn\u001b[39;00m \u001b[39mself\u001b[39m\u001b[39m.\u001b[39m_compiled_call_impl(\u001b[39m*\u001b[39margs, \u001b[39m*\u001b[39m\u001b[39m*\u001b[39mkwargs)  \u001b[39m# type: ignore[misc]\u001b[39;00m\n\u001b[0;32m   1738\u001b[0m \u001b[39melse\u001b[39;00m:\n\u001b[1;32m-> 1739\u001b[0m     \u001b[39mreturn\u001b[39;00m \u001b[39mself\u001b[39m\u001b[39m.\u001b[39m_call_impl(\u001b[39m*\u001b[39margs, \u001b[39m*\u001b[39m\u001b[39m*\u001b[39mkwargs)\n",
            "File \u001b[1;32mc:\\Users\\asus\\AppData\\Local\\Programs\\Python\\Python39\\lib\\site-packages\\torch\\nn\\modules\\module.py:1750\u001b[0m, in \u001b[0;36mModule._call_impl\u001b[1;34m(self, *args, **kwargs)\u001b[0m\n\u001b[0;32m   1745\u001b[0m \u001b[39m# If we don't have any hooks, we want to skip the rest of the logic in\u001b[39;00m\n\u001b[0;32m   1746\u001b[0m \u001b[39m# this function, and just call forward.\u001b[39;00m\n\u001b[0;32m   1747\u001b[0m \u001b[39mif\u001b[39;00m \u001b[39mnot\u001b[39;00m (\u001b[39mself\u001b[39m\u001b[39m.\u001b[39m_backward_hooks \u001b[39mor\u001b[39;00m \u001b[39mself\u001b[39m\u001b[39m.\u001b[39m_backward_pre_hooks \u001b[39mor\u001b[39;00m \u001b[39mself\u001b[39m\u001b[39m.\u001b[39m_forward_hooks \u001b[39mor\u001b[39;00m \u001b[39mself\u001b[39m\u001b[39m.\u001b[39m_forward_pre_hooks\n\u001b[0;32m   1748\u001b[0m         \u001b[39mor\u001b[39;00m _global_backward_pre_hooks \u001b[39mor\u001b[39;00m _global_backward_hooks\n\u001b[0;32m   1749\u001b[0m         \u001b[39mor\u001b[39;00m _global_forward_hooks \u001b[39mor\u001b[39;00m _global_forward_pre_hooks):\n\u001b[1;32m-> 1750\u001b[0m     \u001b[39mreturn\u001b[39;00m forward_call(\u001b[39m*\u001b[39margs, \u001b[39m*\u001b[39m\u001b[39m*\u001b[39mkwargs)\n\u001b[0;32m   1752\u001b[0m result \u001b[39m=\u001b[39m \u001b[39mNone\u001b[39;00m\n\u001b[0;32m   1753\u001b[0m called_always_called_hooks \u001b[39m=\u001b[39m \u001b[39mset\u001b[39m()\n",
            "File \u001b[1;32mc:\\Users\\asus\\AppData\\Local\\Programs\\Python\\Python39\\lib\\site-packages\\torch\\nn\\modules\\transformer.py:920\u001b[0m, in \u001b[0;36mTransformerEncoderLayer.forward\u001b[1;34m(self, src, src_mask, src_key_padding_mask, is_causal)\u001b[0m\n\u001b[0;32m    916\u001b[0m     x \u001b[39m=\u001b[39m x \u001b[39m+\u001b[39m \u001b[39mself\u001b[39m\u001b[39m.\u001b[39m_ff_block(\u001b[39mself\u001b[39m\u001b[39m.\u001b[39mnorm2(x))\n\u001b[0;32m    917\u001b[0m \u001b[39melse\u001b[39;00m:\n\u001b[0;32m    918\u001b[0m     x \u001b[39m=\u001b[39m \u001b[39mself\u001b[39m\u001b[39m.\u001b[39mnorm1(\n\u001b[0;32m    919\u001b[0m         x\n\u001b[1;32m--> 920\u001b[0m         \u001b[39m+\u001b[39m \u001b[39mself\u001b[39;49m\u001b[39m.\u001b[39;49m_sa_block(x, src_mask, src_key_padding_mask, is_causal\u001b[39m=\u001b[39;49mis_causal)\n\u001b[0;32m    921\u001b[0m     )\n\u001b[0;32m    922\u001b[0m     x \u001b[39m=\u001b[39m \u001b[39mself\u001b[39m\u001b[39m.\u001b[39mnorm2(x \u001b[39m+\u001b[39m \u001b[39mself\u001b[39m\u001b[39m.\u001b[39m_ff_block(x))\n\u001b[0;32m    924\u001b[0m \u001b[39mreturn\u001b[39;00m x\n",
            "File \u001b[1;32mc:\\Users\\asus\\AppData\\Local\\Programs\\Python\\Python39\\lib\\site-packages\\torch\\nn\\modules\\transformer.py:934\u001b[0m, in \u001b[0;36mTransformerEncoderLayer._sa_block\u001b[1;34m(self, x, attn_mask, key_padding_mask, is_causal)\u001b[0m\n\u001b[0;32m    927\u001b[0m \u001b[39mdef\u001b[39;00m \u001b[39m_sa_block\u001b[39m(\n\u001b[0;32m    928\u001b[0m     \u001b[39mself\u001b[39m,\n\u001b[0;32m    929\u001b[0m     x: Tensor,\n\u001b[1;32m   (...)\u001b[0m\n\u001b[0;32m    932\u001b[0m     is_causal: \u001b[39mbool\u001b[39m \u001b[39m=\u001b[39m \u001b[39mFalse\u001b[39;00m,\n\u001b[0;32m    933\u001b[0m ) \u001b[39m-\u001b[39m\u001b[39m>\u001b[39m Tensor:\n\u001b[1;32m--> 934\u001b[0m     x \u001b[39m=\u001b[39m \u001b[39mself\u001b[39;49m\u001b[39m.\u001b[39;49mself_attn(\n\u001b[0;32m    935\u001b[0m         x,\n\u001b[0;32m    936\u001b[0m         x,\n\u001b[0;32m    937\u001b[0m         x,\n\u001b[0;32m    938\u001b[0m         attn_mask\u001b[39m=\u001b[39;49mattn_mask,\n\u001b[0;32m    939\u001b[0m         key_padding_mask\u001b[39m=\u001b[39;49mkey_padding_mask,\n\u001b[0;32m    940\u001b[0m         need_weights\u001b[39m=\u001b[39;49m\u001b[39mFalse\u001b[39;49;00m,\n\u001b[0;32m    941\u001b[0m         is_causal\u001b[39m=\u001b[39;49mis_causal,\n\u001b[0;32m    942\u001b[0m     )[\u001b[39m0\u001b[39m]\n\u001b[0;32m    943\u001b[0m     \u001b[39mreturn\u001b[39;00m \u001b[39mself\u001b[39m\u001b[39m.\u001b[39mdropout1(x)\n",
            "File \u001b[1;32mc:\\Users\\asus\\AppData\\Local\\Programs\\Python\\Python39\\lib\\site-packages\\torch\\nn\\modules\\module.py:1739\u001b[0m, in \u001b[0;36mModule._wrapped_call_impl\u001b[1;34m(self, *args, **kwargs)\u001b[0m\n\u001b[0;32m   1737\u001b[0m     \u001b[39mreturn\u001b[39;00m \u001b[39mself\u001b[39m\u001b[39m.\u001b[39m_compiled_call_impl(\u001b[39m*\u001b[39margs, \u001b[39m*\u001b[39m\u001b[39m*\u001b[39mkwargs)  \u001b[39m# type: ignore[misc]\u001b[39;00m\n\u001b[0;32m   1738\u001b[0m \u001b[39melse\u001b[39;00m:\n\u001b[1;32m-> 1739\u001b[0m     \u001b[39mreturn\u001b[39;00m \u001b[39mself\u001b[39m\u001b[39m.\u001b[39m_call_impl(\u001b[39m*\u001b[39margs, \u001b[39m*\u001b[39m\u001b[39m*\u001b[39mkwargs)\n",
            "File \u001b[1;32mc:\\Users\\asus\\AppData\\Local\\Programs\\Python\\Python39\\lib\\site-packages\\torch\\nn\\modules\\module.py:1750\u001b[0m, in \u001b[0;36mModule._call_impl\u001b[1;34m(self, *args, **kwargs)\u001b[0m\n\u001b[0;32m   1745\u001b[0m \u001b[39m# If we don't have any hooks, we want to skip the rest of the logic in\u001b[39;00m\n\u001b[0;32m   1746\u001b[0m \u001b[39m# this function, and just call forward.\u001b[39;00m\n\u001b[0;32m   1747\u001b[0m \u001b[39mif\u001b[39;00m \u001b[39mnot\u001b[39;00m (\u001b[39mself\u001b[39m\u001b[39m.\u001b[39m_backward_hooks \u001b[39mor\u001b[39;00m \u001b[39mself\u001b[39m\u001b[39m.\u001b[39m_backward_pre_hooks \u001b[39mor\u001b[39;00m \u001b[39mself\u001b[39m\u001b[39m.\u001b[39m_forward_hooks \u001b[39mor\u001b[39;00m \u001b[39mself\u001b[39m\u001b[39m.\u001b[39m_forward_pre_hooks\n\u001b[0;32m   1748\u001b[0m         \u001b[39mor\u001b[39;00m _global_backward_pre_hooks \u001b[39mor\u001b[39;00m _global_backward_hooks\n\u001b[0;32m   1749\u001b[0m         \u001b[39mor\u001b[39;00m _global_forward_hooks \u001b[39mor\u001b[39;00m _global_forward_pre_hooks):\n\u001b[1;32m-> 1750\u001b[0m     \u001b[39mreturn\u001b[39;00m forward_call(\u001b[39m*\u001b[39margs, \u001b[39m*\u001b[39m\u001b[39m*\u001b[39mkwargs)\n\u001b[0;32m   1752\u001b[0m result \u001b[39m=\u001b[39m \u001b[39mNone\u001b[39;00m\n\u001b[0;32m   1753\u001b[0m called_always_called_hooks \u001b[39m=\u001b[39m \u001b[39mset\u001b[39m()\n",
            "File \u001b[1;32mc:\\Users\\asus\\AppData\\Local\\Programs\\Python\\Python39\\lib\\site-packages\\torch\\nn\\modules\\activation.py:1373\u001b[0m, in \u001b[0;36mMultiheadAttention.forward\u001b[1;34m(self, query, key, value, key_padding_mask, need_weights, attn_mask, average_attn_weights, is_causal)\u001b[0m\n\u001b[0;32m   1347\u001b[0m     attn_output, attn_output_weights \u001b[39m=\u001b[39m F\u001b[39m.\u001b[39mmulti_head_attention_forward(\n\u001b[0;32m   1348\u001b[0m         query,\n\u001b[0;32m   1349\u001b[0m         key,\n\u001b[1;32m   (...)\u001b[0m\n\u001b[0;32m   1370\u001b[0m         is_causal\u001b[39m=\u001b[39mis_causal,\n\u001b[0;32m   1371\u001b[0m     )\n\u001b[0;32m   1372\u001b[0m \u001b[39melse\u001b[39;00m:\n\u001b[1;32m-> 1373\u001b[0m     attn_output, attn_output_weights \u001b[39m=\u001b[39m F\u001b[39m.\u001b[39;49mmulti_head_attention_forward(\n\u001b[0;32m   1374\u001b[0m         query,\n\u001b[0;32m   1375\u001b[0m         key,\n\u001b[0;32m   1376\u001b[0m         value,\n\u001b[0;32m   1377\u001b[0m         \u001b[39mself\u001b[39;49m\u001b[39m.\u001b[39;49membed_dim,\n\u001b[0;32m   1378\u001b[0m         \u001b[39mself\u001b[39;49m\u001b[39m.\u001b[39;49mnum_heads,\n\u001b[0;32m   1379\u001b[0m         \u001b[39mself\u001b[39;49m\u001b[39m.\u001b[39;49min_proj_weight,\n\u001b[0;32m   1380\u001b[0m         \u001b[39mself\u001b[39;49m\u001b[39m.\u001b[39;49min_proj_bias,\n\u001b[0;32m   1381\u001b[0m         \u001b[39mself\u001b[39;49m\u001b[39m.\u001b[39;49mbias_k,\n\u001b[0;32m   1382\u001b[0m         \u001b[39mself\u001b[39;49m\u001b[39m.\u001b[39;49mbias_v,\n\u001b[0;32m   1383\u001b[0m         \u001b[39mself\u001b[39;49m\u001b[39m.\u001b[39;49madd_zero_attn,\n\u001b[0;32m   1384\u001b[0m         \u001b[39mself\u001b[39;49m\u001b[39m.\u001b[39;49mdropout,\n\u001b[0;32m   1385\u001b[0m         \u001b[39mself\u001b[39;49m\u001b[39m.\u001b[39;49mout_proj\u001b[39m.\u001b[39;49mweight,\n\u001b[0;32m   1386\u001b[0m         \u001b[39mself\u001b[39;49m\u001b[39m.\u001b[39;49mout_proj\u001b[39m.\u001b[39;49mbias,\n\u001b[0;32m   1387\u001b[0m         training\u001b[39m=\u001b[39;49m\u001b[39mself\u001b[39;49m\u001b[39m.\u001b[39;49mtraining,\n\u001b[0;32m   1388\u001b[0m         key_padding_mask\u001b[39m=\u001b[39;49mkey_padding_mask,\n\u001b[0;32m   1389\u001b[0m         need_weights\u001b[39m=\u001b[39;49mneed_weights,\n\u001b[0;32m   1390\u001b[0m         attn_mask\u001b[39m=\u001b[39;49mattn_mask,\n\u001b[0;32m   1391\u001b[0m         average_attn_weights\u001b[39m=\u001b[39;49maverage_attn_weights,\n\u001b[0;32m   1392\u001b[0m         is_causal\u001b[39m=\u001b[39;49mis_causal,\n\u001b[0;32m   1393\u001b[0m     )\n\u001b[0;32m   1394\u001b[0m \u001b[39mif\u001b[39;00m \u001b[39mself\u001b[39m\u001b[39m.\u001b[39mbatch_first \u001b[39mand\u001b[39;00m is_batched:\n\u001b[0;32m   1395\u001b[0m     \u001b[39mreturn\u001b[39;00m attn_output\u001b[39m.\u001b[39mtranspose(\u001b[39m1\u001b[39m, \u001b[39m0\u001b[39m), attn_output_weights\n",
            "File \u001b[1;32mc:\\Users\\asus\\AppData\\Local\\Programs\\Python\\Python39\\lib\\site-packages\\torch\\nn\\functional.py:6230\u001b[0m, in \u001b[0;36mmulti_head_attention_forward\u001b[1;34m(query, key, value, embed_dim_to_check, num_heads, in_proj_weight, in_proj_bias, bias_k, bias_v, add_zero_attn, dropout_p, out_proj_weight, out_proj_bias, training, key_padding_mask, need_weights, attn_mask, use_separate_proj_weight, q_proj_weight, k_proj_weight, v_proj_weight, static_k, static_v, average_attn_weights, is_causal)\u001b[0m\n\u001b[0;32m   6226\u001b[0m \u001b[39mif\u001b[39;00m \u001b[39mnot\u001b[39;00m use_separate_proj_weight:\n\u001b[0;32m   6227\u001b[0m     \u001b[39massert\u001b[39;00m (\n\u001b[0;32m   6228\u001b[0m         in_proj_weight \u001b[39mis\u001b[39;00m \u001b[39mnot\u001b[39;00m \u001b[39mNone\u001b[39;00m\n\u001b[0;32m   6229\u001b[0m     ), \u001b[39m\"\u001b[39m\u001b[39muse_separate_proj_weight is False but in_proj_weight is None\u001b[39m\u001b[39m\"\u001b[39m\n\u001b[1;32m-> 6230\u001b[0m     q, k, v \u001b[39m=\u001b[39m _in_projection_packed(query, key, value, in_proj_weight, in_proj_bias)\n\u001b[0;32m   6231\u001b[0m \u001b[39melse\u001b[39;00m:\n\u001b[0;32m   6232\u001b[0m     \u001b[39massert\u001b[39;00m (\n\u001b[0;32m   6233\u001b[0m         q_proj_weight \u001b[39mis\u001b[39;00m \u001b[39mnot\u001b[39;00m \u001b[39mNone\u001b[39;00m\n\u001b[0;32m   6234\u001b[0m     ), \u001b[39m\"\u001b[39m\u001b[39muse_separate_proj_weight is True but q_proj_weight is None\u001b[39m\u001b[39m\"\u001b[39m\n",
            "File \u001b[1;32mc:\\Users\\asus\\AppData\\Local\\Programs\\Python\\Python39\\lib\\site-packages\\torch\\nn\\functional.py:5614\u001b[0m, in \u001b[0;36m_in_projection_packed\u001b[1;34m(q, k, v, w, b)\u001b[0m\n\u001b[0;32m   5611\u001b[0m \u001b[39mif\u001b[39;00m k \u001b[39mis\u001b[39;00m v:\n\u001b[0;32m   5612\u001b[0m     \u001b[39mif\u001b[39;00m q \u001b[39mis\u001b[39;00m k:\n\u001b[0;32m   5613\u001b[0m         \u001b[39m# self-attention\u001b[39;00m\n\u001b[1;32m-> 5614\u001b[0m         proj \u001b[39m=\u001b[39m linear(q, w, b)\n\u001b[0;32m   5615\u001b[0m         \u001b[39m# reshape to 3, E and not E, 3 is deliberate for better memory coalescing and keeping same order as chunk()\u001b[39;00m\n\u001b[0;32m   5616\u001b[0m         proj \u001b[39m=\u001b[39m (\n\u001b[0;32m   5617\u001b[0m             proj\u001b[39m.\u001b[39munflatten(\u001b[39m-\u001b[39m\u001b[39m1\u001b[39m, (\u001b[39m3\u001b[39m, E))\n\u001b[0;32m   5618\u001b[0m             \u001b[39m.\u001b[39munsqueeze(\u001b[39m0\u001b[39m)\n\u001b[1;32m   (...)\u001b[0m\n\u001b[0;32m   5621\u001b[0m             \u001b[39m.\u001b[39mcontiguous()\n\u001b[0;32m   5622\u001b[0m         )\n",
            "\u001b[1;31mKeyboardInterrupt\u001b[0m: "
          ]
        }
      ],
      "source": [
        "from dp.preprocess import preprocess\n",
        "from dp.train import train\n",
        "\n",
        "preprocess(config_file='config.yaml', train_data=train_data)\n",
        "train(config_file='config.yaml',rank=0,num_gpus=0)"
      ]
    }
  ],
  "metadata": {
    "accelerator": "GPU",
    "colab": {
      "collapsed_sections": [],
      "name": "Training_Example.ipynb",
      "provenance": []
    },
    "kernelspec": {
      "display_name": "Python 3",
      "language": "python",
      "name": "python3"
    },
    "language_info": {
      "codemirror_mode": {
        "name": "ipython",
        "version": 3
      },
      "file_extension": ".py",
      "mimetype": "text/x-python",
      "name": "python",
      "nbconvert_exporter": "python",
      "pygments_lexer": "ipython3",
      "version": "3.9.13"
    },
    "vscode": {
      "interpreter": {
        "hash": "b667cebad148e7b094a58ee81f940c685de1dd70a003a9ccdca4a5792431bee5"
      }
    }
  },
  "nbformat": 4,
  "nbformat_minor": 0
}
